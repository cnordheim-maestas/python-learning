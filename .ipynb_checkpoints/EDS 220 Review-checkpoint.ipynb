{
 "cells": [
  {
   "cell_type": "markdown",
   "id": "e2424e2c-7c4b-4bd1-81bb-1b9c9b99beeb",
   "metadata": {},
   "source": [
    "# EDS 220 Python Essentials Review"
   ]
  },
  {
   "cell_type": "markdown",
   "id": "36d3f641-c714-4609-baa2-2f2488550f8d",
   "metadata": {},
   "source": [
    "## Carpentries Review\n",
    "Source: http://swcarpentry.github.io/python-novice-gapminder/index.html"
   ]
  },
  {
   "cell_type": "markdown",
   "id": "7d21245b-f0fc-4ef3-99dc-5e25932dd354",
   "metadata": {},
   "source": [
    "### Variables"
   ]
  },
  {
   "cell_type": "code",
   "execution_count": 1,
   "id": "49c1e05e-72dd-45ce-a46f-805f3f4efdcb",
   "metadata": {
    "tags": []
   },
   "outputs": [],
   "source": [
    "# Variable assignment\n",
    "age=26\n",
    "first_name = \"Caitlin\""
   ]
  },
  {
   "cell_type": "code",
   "execution_count": 2,
   "id": "95b8b4d8-f548-4abc-99b9-f9f78979b370",
   "metadata": {
    "tags": []
   },
   "outputs": [
    {
     "data": {
      "text/plain": [
       "26"
      ]
     },
     "execution_count": 2,
     "metadata": {},
     "output_type": "execute_result"
    }
   ],
   "source": [
    "age"
   ]
  },
  {
   "cell_type": "code",
   "execution_count": 3,
   "id": "f70a1dbf-90cb-4922-b174-fd9b2d3670fc",
   "metadata": {
    "tags": []
   },
   "outputs": [
    {
     "name": "stdout",
     "output_type": "stream",
     "text": [
      "Caitlin is 26\n"
     ]
    }
   ],
   "source": [
    "print(first_name, \"is\", age)\n",
    "# print puts a space between items, don't need to specify"
   ]
  },
  {
   "cell_type": "code",
   "execution_count": 4,
   "id": "cb595d67-e9b0-4a84-a106-83e9e968977b",
   "metadata": {
    "tags": []
   },
   "outputs": [
    {
     "name": "stdout",
     "output_type": "stream",
     "text": [
      "Age next year: 27\n"
     ]
    }
   ],
   "source": [
    "age_2025 = age + 1\n",
    "print(\"Age next year:\", age_2025)"
   ]
  },
  {
   "cell_type": "code",
   "execution_count": 5,
   "id": "91b9d0db-187f-4ac8-8c8b-eb27f9b161e9",
   "metadata": {
    "tags": []
   },
   "outputs": [
    {
     "name": "stdout",
     "output_type": "stream",
     "text": [
      "3\n"
     ]
    },
    {
     "data": {
      "text/plain": [
       "3"
      ]
     },
     "execution_count": 5,
     "metadata": {},
     "output_type": "execute_result"
    }
   ],
   "source": [
    "# Indexing starts at 0!\n",
    "nums= 1,2,3\n",
    "print(nums[2]) # to get number 3, need to do [2] because starts at 0\n",
    "nums[2]"
   ]
  },
  {
   "cell_type": "code",
   "execution_count": 6,
   "id": "7655527e-9735-4591-ab19-500124beaff6",
   "metadata": {
    "tags": []
   },
   "outputs": [
    {
     "name": "stdout",
     "output_type": "stream",
     "text": [
      "Cait\n"
     ]
    }
   ],
   "source": [
    "# Substring: part of a string\n",
    "# Slice: part of a string\n",
    "# Slice notation: [start:stop]\n",
    "\n",
    "first_name = \"Caitlin\"\n",
    "print(first_name[0:4]) # note the last is not inclusive, will not print position 4"
   ]
  },
  {
   "cell_type": "code",
   "execution_count": 7,
   "id": "000938b3-310c-4595-9f66-490b6a3f45bc",
   "metadata": {
    "tags": []
   },
   "outputs": [
    {
     "name": "stdout",
     "output_type": "stream",
     "text": [
      "7\n"
     ]
    }
   ],
   "source": [
    "# len function\n",
    "print(len(\"Caitlin\"))"
   ]
  },
  {
   "cell_type": "code",
   "execution_count": 8,
   "id": "95ca1a94-fa5d-4584-98df-cfe61b94630b",
   "metadata": {
    "tags": []
   },
   "outputs": [
    {
     "ename": "TypeError",
     "evalue": "object of type 'int' has no len()",
     "output_type": "error",
     "traceback": [
      "\u001b[0;31m---------------------------------------------------------------------------\u001b[0m",
      "\u001b[0;31mTypeError\u001b[0m                                 Traceback (most recent call last)",
      "Cell \u001b[0;32mIn[8], line 2\u001b[0m\n\u001b[1;32m      1\u001b[0m \u001b[38;5;66;03m# numbers don't have a \"length\"\u001b[39;00m\n\u001b[0;32m----> 2\u001b[0m \u001b[38;5;28mlen\u001b[39m(\u001b[38;5;241m42\u001b[39m)\n",
      "\u001b[0;31mTypeError\u001b[0m: object of type 'int' has no len()"
     ]
    }
   ],
   "source": [
    "# numbers don't have a \"length\"\n",
    "len(42) # intentional error"
   ]
  },
  {
   "cell_type": "markdown",
   "id": "b38d7166-0f06-48a8-8505-681fa7e7c3f3",
   "metadata": {},
   "source": [
    "### Data types and data conversion"
   ]
  },
  {
   "cell_type": "markdown",
   "id": "2c88cbd0-b528-4be1-aca8-482a39cd4123",
   "metadata": {},
   "source": [
    "* int: Integer: positive or negative whole numbers (1, -2)\n",
    "* float: Real number (1.3)\n",
    "* str: String: text (\"hello\")"
   ]
  },
  {
   "cell_type": "code",
   "execution_count": 9,
   "id": "8e488ab9-65ab-496d-87c9-53b21cbf4fcd",
   "metadata": {
    "tags": []
   },
   "outputs": [
    {
     "name": "stdout",
     "output_type": "stream",
     "text": [
      "<class 'int'>\n"
     ]
    }
   ],
   "source": [
    "# Get the datatype (aka class) using type function\n",
    "\n",
    "print(type(52))"
   ]
  },
  {
   "cell_type": "code",
   "execution_count": 10,
   "id": "9de37530-faa7-4d3e-8774-0b4cfc2a794a",
   "metadata": {
    "tags": []
   },
   "outputs": [
    {
     "ename": "TypeError",
     "evalue": "unsupported operand type(s) for -: 'str' and 'str'",
     "output_type": "error",
     "traceback": [
      "\u001b[0;31m---------------------------------------------------------------------------\u001b[0m",
      "\u001b[0;31mTypeError\u001b[0m                                 Traceback (most recent call last)",
      "Cell \u001b[0;32mIn[10], line 4\u001b[0m\n\u001b[1;32m      1\u001b[0m \u001b[38;5;66;03m# The functions possible depend on the type!\u001b[39;00m\n\u001b[1;32m      2\u001b[0m \u001b[38;5;66;03m# Ex: Can't do subtraction a string\u001b[39;00m\n\u001b[0;32m----> 4\u001b[0m \u001b[38;5;28mprint\u001b[39m(\u001b[38;5;124m\"\u001b[39m\u001b[38;5;124mhello\u001b[39m\u001b[38;5;124m\"\u001b[39m\u001b[38;5;241m-\u001b[39m\u001b[38;5;124m\"\u001b[39m\u001b[38;5;124mh\u001b[39m\u001b[38;5;124m\"\u001b[39m)\n",
      "\u001b[0;31mTypeError\u001b[0m: unsupported operand type(s) for -: 'str' and 'str'"
     ]
    }
   ],
   "source": [
    "# The functions possible depend on the type!\n",
    "# Ex: Can't do subtraction a string\n",
    "\n",
    "print(\"hello\"-\"h\") #intentional error"
   ]
  },
  {
   "cell_type": "code",
   "execution_count": 11,
   "id": "c731da05-95ee-4f02-ab52-aa104ed949b3",
   "metadata": {
    "tags": []
   },
   "outputs": [
    {
     "name": "stdout",
     "output_type": "stream",
     "text": [
      "2\n"
     ]
    }
   ],
   "source": [
    "print(5-3)"
   ]
  },
  {
   "cell_type": "code",
   "execution_count": 12,
   "id": "62ef327d-6667-4482-8fce-1268504e58b5",
   "metadata": {
    "tags": []
   },
   "outputs": [
    {
     "name": "stdout",
     "output_type": "stream",
     "text": [
      "Caitlin Nordheim-Maestas\n"
     ]
    }
   ],
   "source": [
    "# But you can + with strings!\n",
    "\n",
    "full_name = \"Caitlin\" + \" \" + \"Nordheim-Maestas\"\n",
    "print(full_name)"
   ]
  },
  {
   "cell_type": "code",
   "execution_count": 13,
   "id": "57f42d1e-8333-47c8-b94b-407aca6ae494",
   "metadata": {
    "tags": []
   },
   "outputs": [
    {
     "name": "stdout",
     "output_type": "stream",
     "text": [
      "==========\n",
      "Caitlin Nordheim-MaestasCaitlin Nordheim-MaestasCaitlin Nordheim-MaestasCaitlin Nordheim-MaestasCaitlin Nordheim-MaestasCaitlin Nordheim-MaestasCaitlin Nordheim-MaestasCaitlin Nordheim-MaestasCaitlin Nordheim-MaestasCaitlin Nordheim-Maestas\n"
     ]
    }
   ],
   "source": [
    "# You can use = with strings too to multiply a character string by an integer\n",
    "# = is repeated addion\n",
    "\n",
    "x= \"=\" * 10\n",
    "print(x)\n",
    "\n",
    "full_name_10 = full_name * 10\n",
    "print(full_name_10)"
   ]
  },
  {
   "cell_type": "code",
   "execution_count": 14,
   "id": "54b28e0f-a10d-4364-bb43-32adc1975d9c",
   "metadata": {
    "tags": []
   },
   "outputs": [
    {
     "ename": "TypeError",
     "evalue": "unsupported operand type(s) for +: 'int' and 'str'",
     "output_type": "error",
     "traceback": [
      "\u001b[0;31m---------------------------------------------------------------------------\u001b[0m",
      "\u001b[0;31mTypeError\u001b[0m                                 Traceback (most recent call last)",
      "Cell \u001b[0;32mIn[14], line 2\u001b[0m\n\u001b[1;32m      1\u001b[0m \u001b[38;5;66;03m# Cannot add numbers and strings\u001b[39;00m\n\u001b[0;32m----> 2\u001b[0m \u001b[38;5;28mprint\u001b[39m(\u001b[38;5;241m1\u001b[39m\u001b[38;5;241m+\u001b[39m\u001b[38;5;124m\"\u001b[39m\u001b[38;5;124m2\u001b[39m\u001b[38;5;124m\"\u001b[39m)\n",
      "\u001b[0;31mTypeError\u001b[0m: unsupported operand type(s) for +: 'int' and 'str'"
     ]
    }
   ],
   "source": [
    "# Cannot add numbers and strings\n",
    "print(1+\"2\") #intentional error"
   ]
  },
  {
   "cell_type": "code",
   "execution_count": 15,
   "id": "d596cae4-a035-4d60-8858-f319e55b75d7",
   "metadata": {
    "tags": []
   },
   "outputs": [
    {
     "name": "stdout",
     "output_type": "stream",
     "text": [
      "3\n",
      "12\n"
     ]
    }
   ],
   "source": [
    "# Must convert first\n",
    "# Can convert within the function\n",
    "\n",
    "print(1 + int('2')) # as integers\n",
    "      \n",
    "print(str(1) + \"2\") # as strings"
   ]
  },
  {
   "cell_type": "code",
   "execution_count": 16,
   "id": "450ec3b8-2b7a-47a5-9e7e-0c0e8a8d5c5f",
   "metadata": {
    "tags": []
   },
   "outputs": [
    {
     "name": "stdout",
     "output_type": "stream",
     "text": [
      "<class 'float'>\n"
     ]
    }
   ],
   "source": [
    "# Practice: what type of value is 3.4?\n",
    "\n",
    "print(type(3.4))"
   ]
  },
  {
   "cell_type": "code",
   "execution_count": 17,
   "id": "fff8d685-222d-4aa2-a00b-285dd1bc7b04",
   "metadata": {
    "tags": []
   },
   "outputs": [
    {
     "name": "stdout",
     "output_type": "stream",
     "text": [
      "string to float: 3.4\n",
      "float to int: 3\n"
     ]
    }
   ],
   "source": [
    "# Strings to numbers: when you have a decimal,\n",
    "# string --> float --> int\n",
    "# can't handle string --> int when the value is a decimal\n",
    "\n",
    "print(\"string to float:\", float(\"3.4\")) #can easily turn string into float\n",
    "print(\"float to int:\", int(3.4)) #will turn float into integer"
   ]
  },
  {
   "cell_type": "code",
   "execution_count": 18,
   "id": "d34ab72f-ca84-4cf3-b800-aa5c83e24c39",
   "metadata": {
    "tags": []
   },
   "outputs": [
    {
     "ename": "ValueError",
     "evalue": "invalid literal for int() with base 10: '3.4'",
     "output_type": "error",
     "traceback": [
      "\u001b[0;31m---------------------------------------------------------------------------\u001b[0m",
      "\u001b[0;31mValueError\u001b[0m                                Traceback (most recent call last)",
      "Cell \u001b[0;32mIn[18], line 1\u001b[0m\n\u001b[0;32m----> 1\u001b[0m \u001b[38;5;28mint\u001b[39m(\u001b[38;5;124m\"\u001b[39m\u001b[38;5;124m3.4\u001b[39m\u001b[38;5;124m\"\u001b[39m)\n",
      "\u001b[0;31mValueError\u001b[0m: invalid literal for int() with base 10: '3.4'"
     ]
    }
   ],
   "source": [
    "int(\"3.4\") #can't handle it!"
   ]
  },
  {
   "cell_type": "code",
   "execution_count": 19,
   "id": "aa58fe4e-e23f-4425-bb76-4d472da1ad04",
   "metadata": {
    "tags": []
   },
   "outputs": [
    {
     "data": {
      "text/plain": [
       "3"
      ]
     },
     "execution_count": 19,
     "metadata": {},
     "output_type": "execute_result"
    }
   ],
   "source": [
    "int(float(\"3.4\")) # need to hand hold by making it a float first"
   ]
  },
  {
   "cell_type": "markdown",
   "id": "c916a69c-aa5d-43db-9814-daaf1b32683e",
   "metadata": {
    "tags": []
   },
   "source": [
    "### Built in functions"
   ]
  },
  {
   "cell_type": "code",
   "execution_count": 20,
   "id": "cd2dba59-6590-4672-b9a4-834d200ad11a",
   "metadata": {
    "tags": []
   },
   "outputs": [
    {
     "name": "stdout",
     "output_type": "stream",
     "text": [
      "3\n",
      "0\n"
     ]
    }
   ],
   "source": [
    "# Max, min\n",
    "\n",
    "print(max(1, 2, 3))\n",
    "print(min('a', 'A', '0')) #(0-9, A-Z, a-z) to compare within strings"
   ]
  },
  {
   "cell_type": "code",
   "execution_count": 21,
   "id": "b06f0ee1-4a3b-413d-86c6-c50664109909",
   "metadata": {
    "tags": []
   },
   "outputs": [
    {
     "data": {
      "text/plain": [
       "3"
      ]
     },
     "execution_count": 21,
     "metadata": {},
     "output_type": "execute_result"
    }
   ],
   "source": [
    "# round\n",
    "round(3.452)"
   ]
  },
  {
   "cell_type": "code",
   "execution_count": 22,
   "id": "0dad4ece-6304-474e-bee3-36c9a7ffaa3b",
   "metadata": {
    "tags": []
   },
   "outputs": [
    {
     "data": {
      "text/plain": [
       "3.5"
      ]
     },
     "execution_count": 22,
     "metadata": {},
     "output_type": "execute_result"
    }
   ],
   "source": [
    "# round and give decimal places\n",
    "\n",
    "round(3.542, 1) #(number, num decimal places)"
   ]
  },
  {
   "cell_type": "markdown",
   "id": "c9bd179f-370f-41ff-b1df-0f1c33b8f27e",
   "metadata": {},
   "source": [
    "Note: Functions attached to objects are called methods\n",
    "\n",
    "Methods have parentheses like functions, but come after the variable.\n",
    "Some methods are used for internal Python operations, and are marked with double underlines.\n",
    "\n",
    "Added on using the \".\""
   ]
  },
  {
   "cell_type": "code",
   "execution_count": 23,
   "id": "d26ad4aa-9ba6-4320-94d6-f8bb9ecc5dbf",
   "metadata": {
    "tags": []
   },
   "outputs": [
    {
     "name": "stdout",
     "output_type": "stream",
     "text": [
      "hELLO WORLD!\n"
     ]
    }
   ],
   "source": [
    "my_string = 'Hello world!'\n",
    "print(my_string.swapcase()) # calling the swapcase method on the my_string object"
   ]
  },
  {
   "cell_type": "code",
   "execution_count": 24,
   "id": "fd4a9ec5-0591-4aa9-83ee-dae9563d5a6d",
   "metadata": {
    "tags": []
   },
   "outputs": [
    {
     "name": "stdout",
     "output_type": "stream",
     "text": [
      "Help on class range in module builtins:\n",
      "\n",
      "class range(object)\n",
      " |  range(stop) -> range object\n",
      " |  range(start, stop[, step]) -> range object\n",
      " |  \n",
      " |  Return an object that produces a sequence of integers from start (inclusive)\n",
      " |  to stop (exclusive) by step.  range(i, j) produces i, i+1, i+2, ..., j-1.\n",
      " |  start defaults to 0, and stop is omitted!  range(4) produces 0, 1, 2, 3.\n",
      " |  These are exactly the valid indices for a list of 4 elements.\n",
      " |  When step is given, it specifies the increment (or decrement).\n",
      " |  \n",
      " |  Methods defined here:\n",
      " |  \n",
      " |  __bool__(self, /)\n",
      " |      True if self else False\n",
      " |  \n",
      " |  __contains__(self, key, /)\n",
      " |      Return key in self.\n",
      " |  \n",
      " |  __eq__(self, value, /)\n",
      " |      Return self==value.\n",
      " |  \n",
      " |  __ge__(self, value, /)\n",
      " |      Return self>=value.\n",
      " |  \n",
      " |  __getattribute__(self, name, /)\n",
      " |      Return getattr(self, name).\n",
      " |  \n",
      " |  __getitem__(self, key, /)\n",
      " |      Return self[key].\n",
      " |  \n",
      " |  __gt__(self, value, /)\n",
      " |      Return self>value.\n",
      " |  \n",
      " |  __hash__(self, /)\n",
      " |      Return hash(self).\n",
      " |  \n",
      " |  __iter__(self, /)\n",
      " |      Implement iter(self).\n",
      " |  \n",
      " |  __le__(self, value, /)\n",
      " |      Return self<=value.\n",
      " |  \n",
      " |  __len__(self, /)\n",
      " |      Return len(self).\n",
      " |  \n",
      " |  __lt__(self, value, /)\n",
      " |      Return self<value.\n",
      " |  \n",
      " |  __ne__(self, value, /)\n",
      " |      Return self!=value.\n",
      " |  \n",
      " |  __reduce__(...)\n",
      " |      Helper for pickle.\n",
      " |  \n",
      " |  __repr__(self, /)\n",
      " |      Return repr(self).\n",
      " |  \n",
      " |  __reversed__(...)\n",
      " |      Return a reverse iterator.\n",
      " |  \n",
      " |  count(...)\n",
      " |      rangeobject.count(value) -> integer -- return number of occurrences of value\n",
      " |  \n",
      " |  index(...)\n",
      " |      rangeobject.index(value) -> integer -- return index of value.\n",
      " |      Raise ValueError if the value is not present.\n",
      " |  \n",
      " |  ----------------------------------------------------------------------\n",
      " |  Static methods defined here:\n",
      " |  \n",
      " |  __new__(*args, **kwargs) from builtins.type\n",
      " |      Create and return a new object.  See help(type) for accurate signature.\n",
      " |  \n",
      " |  ----------------------------------------------------------------------\n",
      " |  Data descriptors defined here:\n",
      " |  \n",
      " |  start\n",
      " |  \n",
      " |  step\n",
      " |  \n",
      " |  stop\n",
      "\n"
     ]
    }
   ],
   "source": [
    "# Review range function using help\n",
    "help(range)"
   ]
  },
  {
   "cell_type": "code",
   "execution_count": 25,
   "id": "1d3a4cb9-014e-4d00-97ed-724817764061",
   "metadata": {
    "tags": []
   },
   "outputs": [
    {
     "data": {
      "text/plain": [
       "range(0, 3)"
      ]
     },
     "execution_count": 25,
     "metadata": {},
     "output_type": "execute_result"
    }
   ],
   "source": [
    "# from start (inclusive) to stop (exclusive) by step\n",
    "# start defaults to 0, that makes sense\n",
    "\n",
    "range(3)"
   ]
  },
  {
   "cell_type": "markdown",
   "id": "4f7e246a-46e0-4664-b9f8-50790a19b6a6",
   "metadata": {},
   "source": [
    "### Libraries"
   ]
  },
  {
   "cell_type": "markdown",
   "id": "10d31689-00b2-4a42-ae84-a6b4e33cc062",
   "metadata": {},
   "source": [
    "Note: Python uses . to mean “part of”\n",
    "example: math.cos(pi) is like saying the cosign function of pi is part of the math library"
   ]
  },
  {
   "cell_type": "code",
   "execution_count": 26,
   "id": "33b710ed-1817-46d7-bf0f-248b379c2702",
   "metadata": {
    "tags": []
   },
   "outputs": [],
   "source": [
    "import math"
   ]
  },
  {
   "cell_type": "code",
   "execution_count": 27,
   "id": "81ae432b-a0c5-44ef-bbb5-376149232a05",
   "metadata": {
    "tags": []
   },
   "outputs": [
    {
     "name": "stdout",
     "output_type": "stream",
     "text": [
      "3.141592653589793\n"
     ]
    }
   ],
   "source": [
    "print(math.pi)"
   ]
  },
  {
   "cell_type": "code",
   "execution_count": 28,
   "id": "ae0c0200-7162-4577-84ea-28e6e39c8c91",
   "metadata": {
    "tags": []
   },
   "outputs": [
    {
     "name": "stdout",
     "output_type": "stream",
     "text": [
      "cos(pi) is -1.0\n"
     ]
    }
   ],
   "source": [
    "print('cos(pi) is', math.cos(math.pi))"
   ]
  },
  {
   "cell_type": "code",
   "execution_count": 29,
   "id": "e2f7e264-a291-48dc-b50f-ff75867a9b9e",
   "metadata": {
    "tags": []
   },
   "outputs": [],
   "source": [
    "# Can import parts of a library instead of whole thing\n",
    "\n",
    "from math import cos, pi"
   ]
  },
  {
   "cell_type": "code",
   "execution_count": 30,
   "id": "397c130a-1996-477d-9815-e2d65d2057e6",
   "metadata": {
    "tags": []
   },
   "outputs": [
    {
     "name": "stdout",
     "output_type": "stream",
     "text": [
      "cos(pi) is -1.0\n"
     ]
    }
   ],
   "source": [
    "print('cos(pi) is', cos(pi)) # note: no \"math.\""
   ]
  },
  {
   "cell_type": "code",
   "execution_count": 31,
   "id": "72ae9d54-be9c-453f-a39f-5428c0c79671",
   "metadata": {
    "tags": []
   },
   "outputs": [],
   "source": [
    "# Can make an alias so you don't have to type out \"math\" all the time\n",
    "\n",
    "import math as m"
   ]
  },
  {
   "cell_type": "code",
   "execution_count": 32,
   "id": "3ce1a11c-65f9-499d-991b-c189e9ef0c1f",
   "metadata": {
    "tags": []
   },
   "outputs": [
    {
     "name": "stdout",
     "output_type": "stream",
     "text": [
      "cos(pi) is -1.0\n"
     ]
    }
   ],
   "source": [
    "print('cos(pi) is', m.cos(m.pi)) # note the \"m.\""
   ]
  },
  {
   "cell_type": "markdown",
   "id": "dcae253e-81bf-4ab7-b838-246753e3f037",
   "metadata": {},
   "source": [
    "### Reading Tabular Data into DataFrames"
   ]
  },
  {
   "cell_type": "code",
   "execution_count": 33,
   "id": "bc205600-c9b8-4f88-893b-5f9d5746d6c5",
   "metadata": {
    "tags": []
   },
   "outputs": [],
   "source": [
    "# Import library\n",
    "\n",
    "import pandas as pd"
   ]
  },
  {
   "cell_type": "code",
   "execution_count": 34,
   "id": "4a5e018c-dcf9-4ea6-b00e-3acfa425b9f8",
   "metadata": {},
   "outputs": [],
   "source": [
    "# read in csv file\n",
    "\n",
    "data_oc = pd.read_csv(\"uc-carp-data/gapminder_gdp_oceania.csv\")"
   ]
  },
  {
   "cell_type": "code",
   "execution_count": 36,
   "id": "2757e8ea-8496-41a5-8469-d47d67a65284",
   "metadata": {
    "tags": []
   },
   "outputs": [
    {
     "name": "stdout",
     "output_type": "stream",
     "text": [
      "       country  gdpPercap_1952  gdpPercap_1957  gdpPercap_1962  \\\n",
      "0    Australia     10039.59564     10949.64959     12217.22686   \n",
      "1  New Zealand     10556.57566     12247.39532     13175.67800   \n",
      "\n",
      "   gdpPercap_1967  gdpPercap_1972  gdpPercap_1977  gdpPercap_1982  \\\n",
      "0     14526.12465     16788.62948     18334.19751     19477.00928   \n",
      "1     14463.91893     16046.03728     16233.71770     17632.41040   \n",
      "\n",
      "   gdpPercap_1987  gdpPercap_1992  gdpPercap_1997  gdpPercap_2002  \\\n",
      "0     21888.88903     23424.76683     26997.93657     30687.75473   \n",
      "1     19007.19129     18363.32494     21050.41377     23189.80135   \n",
      "\n",
      "   gdpPercap_2007  \n",
      "0     34435.36744  \n",
      "1     25185.00911  \n"
     ]
    }
   ],
   "source": [
    "print(data_oc)"
   ]
  },
  {
   "cell_type": "code",
   "execution_count": 40,
   "id": "34ad7905-008d-4619-801e-cff156f6bda8",
   "metadata": {
    "tags": []
   },
   "outputs": [],
   "source": [
    "# index_col to specify that a column’s values should be used as row headings\n",
    "# Note the default is the 0 and 1\n",
    "\n",
    "data_oc = pd.read_csv(\"uc-carp-data/gapminder_gdp_oceania.csv\", index_col=\"country\")"
   ]
  },
  {
   "cell_type": "code",
   "execution_count": 39,
   "id": "0b002b70-4afd-4190-9c64-2292ce37d65c",
   "metadata": {
    "tags": []
   },
   "outputs": [
    {
     "name": "stdout",
     "output_type": "stream",
     "text": [
      "             gdpPercap_1952  gdpPercap_1957  gdpPercap_1962  gdpPercap_1967  \\\n",
      "country                                                                       \n",
      "Australia       10039.59564     10949.64959     12217.22686     14526.12465   \n",
      "New Zealand     10556.57566     12247.39532     13175.67800     14463.91893   \n",
      "\n",
      "             gdpPercap_1972  gdpPercap_1977  gdpPercap_1982  gdpPercap_1987  \\\n",
      "country                                                                       \n",
      "Australia       16788.62948     18334.19751     19477.00928     21888.88903   \n",
      "New Zealand     16046.03728     16233.71770     17632.41040     19007.19129   \n",
      "\n",
      "             gdpPercap_1992  gdpPercap_1997  gdpPercap_2002  gdpPercap_2007  \n",
      "country                                                                      \n",
      "Australia       23424.76683     26997.93657     30687.75473     34435.36744  \n",
      "New Zealand     18363.32494     21050.41377     23189.80135     25185.00911  \n"
     ]
    }
   ],
   "source": [
    "print(data_oc) #now it has the country names on the left"
   ]
  },
  {
   "cell_type": "code",
   "execution_count": 41,
   "id": "b5a5d148-1a88-4a24-a602-7f346661a132",
   "metadata": {
    "tags": []
   },
   "outputs": [
    {
     "data": {
      "text/plain": [
       "<bound method DataFrame.info of              gdpPercap_1952  gdpPercap_1957  gdpPercap_1962  gdpPercap_1967  \\\n",
       "country                                                                       \n",
       "Australia       10039.59564     10949.64959     12217.22686     14526.12465   \n",
       "New Zealand     10556.57566     12247.39532     13175.67800     14463.91893   \n",
       "\n",
       "             gdpPercap_1972  gdpPercap_1977  gdpPercap_1982  gdpPercap_1987  \\\n",
       "country                                                                       \n",
       "Australia       16788.62948     18334.19751     19477.00928     21888.88903   \n",
       "New Zealand     16046.03728     16233.71770     17632.41040     19007.19129   \n",
       "\n",
       "             gdpPercap_1992  gdpPercap_1997  gdpPercap_2002  gdpPercap_2007  \n",
       "country                                                                      \n",
       "Australia       23424.76683     26997.93657     30687.75473     34435.36744  \n",
       "New Zealand     18363.32494     21050.41377     23189.80135     25185.00911  >"
      ]
     },
     "execution_count": 41,
     "metadata": {},
     "output_type": "execute_result"
    }
   ],
   "source": [
    "# DataFrame.info() to find out more about a dataframe\n",
    "\n",
    "data_oc.info"
   ]
  },
  {
   "cell_type": "code",
   "execution_count": 42,
   "id": "c36cd447-028f-439c-9a72-b4b68755eb53",
   "metadata": {
    "tags": []
   },
   "outputs": [
    {
     "name": "stdout",
     "output_type": "stream",
     "text": [
      "Index(['gdpPercap_1952', 'gdpPercap_1957', 'gdpPercap_1962', 'gdpPercap_1967',\n",
      "       'gdpPercap_1972', 'gdpPercap_1977', 'gdpPercap_1982', 'gdpPercap_1987',\n",
      "       'gdpPercap_1992', 'gdpPercap_1997', 'gdpPercap_2002', 'gdpPercap_2007'],\n",
      "      dtype='object')\n"
     ]
    }
   ],
   "source": [
    "# DataFrame.columns variable stores information about the dataframe’s columns\n",
    "\n",
    "print(data_oc.columns)"
   ]
  },
  {
   "cell_type": "code",
   "execution_count": 43,
   "id": "2a778487-6610-4a26-9f16-83cc7171f1fa",
   "metadata": {
    "tags": []
   },
   "outputs": [
    {
     "name": "stdout",
     "output_type": "stream",
     "text": [
      "country           Australia  New Zealand\n",
      "gdpPercap_1952  10039.59564  10556.57566\n",
      "gdpPercap_1957  10949.64959  12247.39532\n",
      "gdpPercap_1962  12217.22686  13175.67800\n",
      "gdpPercap_1967  14526.12465  14463.91893\n",
      "gdpPercap_1972  16788.62948  16046.03728\n",
      "gdpPercap_1977  18334.19751  16233.71770\n",
      "gdpPercap_1982  19477.00928  17632.41040\n",
      "gdpPercap_1987  21888.88903  19007.19129\n",
      "gdpPercap_1992  23424.76683  18363.32494\n",
      "gdpPercap_1997  26997.93657  21050.41377\n",
      "gdpPercap_2002  30687.75473  23189.80135\n",
      "gdpPercap_2007  34435.36744  25185.00911\n"
     ]
    }
   ],
   "source": [
    "# DataFrame.T to transpose a dataframe\n",
    "\n",
    "print(data_oc.T)"
   ]
  },
  {
   "cell_type": "code",
   "execution_count": 45,
   "id": "936eed5c-2e4b-431e-984e-7a939ce2230c",
   "metadata": {
    "tags": []
   },
   "outputs": [
    {
     "name": "stdout",
     "output_type": "stream",
     "text": [
      "       gdpPercap_1952  gdpPercap_1957  gdpPercap_1962  gdpPercap_1967  \\\n",
      "count        2.000000        2.000000        2.000000        2.000000   \n",
      "mean     10298.085650    11598.522455    12696.452430    14495.021790   \n",
      "std        365.560078      917.644806      677.727301       43.986086   \n",
      "min      10039.595640    10949.649590    12217.226860    14463.918930   \n",
      "25%      10168.840645    11274.086022    12456.839645    14479.470360   \n",
      "50%      10298.085650    11598.522455    12696.452430    14495.021790   \n",
      "75%      10427.330655    11922.958888    12936.065215    14510.573220   \n",
      "max      10556.575660    12247.395320    13175.678000    14526.124650   \n",
      "\n",
      "       gdpPercap_1972  gdpPercap_1977  gdpPercap_1982  gdpPercap_1987  \\\n",
      "count         2.00000        2.000000        2.000000        2.000000   \n",
      "mean      16417.33338    17283.957605    18554.709840    20448.040160   \n",
      "std         525.09198     1485.263517     1304.328377     2037.668013   \n",
      "min       16046.03728    16233.717700    17632.410400    19007.191290   \n",
      "25%       16231.68533    16758.837652    18093.560120    19727.615725   \n",
      "50%       16417.33338    17283.957605    18554.709840    20448.040160   \n",
      "75%       16602.98143    17809.077558    19015.859560    21168.464595   \n",
      "max       16788.62948    18334.197510    19477.009280    21888.889030   \n",
      "\n",
      "       gdpPercap_1992  gdpPercap_1997  gdpPercap_2002  gdpPercap_2007  \n",
      "count        2.000000        2.000000        2.000000        2.000000  \n",
      "mean     20894.045885    24024.175170    26938.778040    29810.188275  \n",
      "std       3578.979883     4205.533703     5301.853680     6540.991104  \n",
      "min      18363.324940    21050.413770    23189.801350    25185.009110  \n",
      "25%      19628.685412    22537.294470    25064.289695    27497.598692  \n",
      "50%      20894.045885    24024.175170    26938.778040    29810.188275  \n",
      "75%      22159.406358    25511.055870    28813.266385    32122.777858  \n",
      "max      23424.766830    26997.936570    30687.754730    34435.367440  \n"
     ]
    }
   ],
   "source": [
    "# DataFrame.describe() to get summary statistics\n",
    "\n",
    "print(data_oc.describe())"
   ]
  },
  {
   "cell_type": "code",
   "execution_count": 48,
   "id": "56c40638-26e0-4a26-b0fc-38e78ccb4247",
   "metadata": {
    "tags": []
   },
   "outputs": [
    {
     "data": {
      "text/html": [
       "<div>\n",
       "<style scoped>\n",
       "    .dataframe tbody tr th:only-of-type {\n",
       "        vertical-align: middle;\n",
       "    }\n",
       "\n",
       "    .dataframe tbody tr th {\n",
       "        vertical-align: top;\n",
       "    }\n",
       "\n",
       "    .dataframe thead th {\n",
       "        text-align: right;\n",
       "    }\n",
       "</style>\n",
       "<table border=\"1\" class=\"dataframe\">\n",
       "  <thead>\n",
       "    <tr style=\"text-align: right;\">\n",
       "      <th></th>\n",
       "      <th>gdpPercap_1952</th>\n",
       "      <th>gdpPercap_1957</th>\n",
       "      <th>gdpPercap_1962</th>\n",
       "      <th>gdpPercap_1967</th>\n",
       "      <th>gdpPercap_1972</th>\n",
       "      <th>gdpPercap_1977</th>\n",
       "      <th>gdpPercap_1982</th>\n",
       "      <th>gdpPercap_1987</th>\n",
       "      <th>gdpPercap_1992</th>\n",
       "      <th>gdpPercap_1997</th>\n",
       "      <th>gdpPercap_2002</th>\n",
       "      <th>gdpPercap_2007</th>\n",
       "    </tr>\n",
       "    <tr>\n",
       "      <th>country</th>\n",
       "      <th></th>\n",
       "      <th></th>\n",
       "      <th></th>\n",
       "      <th></th>\n",
       "      <th></th>\n",
       "      <th></th>\n",
       "      <th></th>\n",
       "      <th></th>\n",
       "      <th></th>\n",
       "      <th></th>\n",
       "      <th></th>\n",
       "      <th></th>\n",
       "    </tr>\n",
       "  </thead>\n",
       "  <tbody>\n",
       "    <tr>\n",
       "      <th>Australia</th>\n",
       "      <td>10039.59564</td>\n",
       "      <td>10949.64959</td>\n",
       "      <td>12217.22686</td>\n",
       "      <td>14526.12465</td>\n",
       "      <td>16788.62948</td>\n",
       "      <td>18334.19751</td>\n",
       "      <td>19477.00928</td>\n",
       "      <td>21888.88903</td>\n",
       "      <td>23424.76683</td>\n",
       "      <td>26997.93657</td>\n",
       "      <td>30687.75473</td>\n",
       "      <td>34435.36744</td>\n",
       "    </tr>\n",
       "    <tr>\n",
       "      <th>New Zealand</th>\n",
       "      <td>10556.57566</td>\n",
       "      <td>12247.39532</td>\n",
       "      <td>13175.67800</td>\n",
       "      <td>14463.91893</td>\n",
       "      <td>16046.03728</td>\n",
       "      <td>16233.71770</td>\n",
       "      <td>17632.41040</td>\n",
       "      <td>19007.19129</td>\n",
       "      <td>18363.32494</td>\n",
       "      <td>21050.41377</td>\n",
       "      <td>23189.80135</td>\n",
       "      <td>25185.00911</td>\n",
       "    </tr>\n",
       "  </tbody>\n",
       "</table>\n",
       "</div>"
      ],
      "text/plain": [
       "             gdpPercap_1952  gdpPercap_1957  gdpPercap_1962  gdpPercap_1967  \\\n",
       "country                                                                       \n",
       "Australia       10039.59564     10949.64959     12217.22686     14526.12465   \n",
       "New Zealand     10556.57566     12247.39532     13175.67800     14463.91893   \n",
       "\n",
       "             gdpPercap_1972  gdpPercap_1977  gdpPercap_1982  gdpPercap_1987  \\\n",
       "country                                                                       \n",
       "Australia       16788.62948     18334.19751     19477.00928     21888.88903   \n",
       "New Zealand     16046.03728     16233.71770     17632.41040     19007.19129   \n",
       "\n",
       "             gdpPercap_1992  gdpPercap_1997  gdpPercap_2002  gdpPercap_2007  \n",
       "country                                                                      \n",
       "Australia       23424.76683     26997.93657     30687.75473     34435.36744  \n",
       "New Zealand     18363.32494     21050.41377     23189.80135     25185.00911  "
      ]
     },
     "execution_count": 48,
     "metadata": {},
     "output_type": "execute_result"
    }
   ],
   "source": [
    "# DataFrame.head and DataFrame.tail\n",
    "data_oc.head(n=3) # n is number of rows to show"
   ]
  },
  {
   "cell_type": "code",
   "execution_count": null,
   "id": "94635fae-51c1-478e-902b-56a230da8048",
   "metadata": {},
   "outputs": [],
   "source": []
  }
 ],
 "metadata": {
  "kernelspec": {
   "display_name": "Python 3 (ipykernel)",
   "language": "python",
   "name": "python3"
  },
  "language_info": {
   "codemirror_mode": {
    "name": "ipython",
    "version": 3
   },
   "file_extension": ".py",
   "mimetype": "text/x-python",
   "name": "python",
   "nbconvert_exporter": "python",
   "pygments_lexer": "ipython3",
   "version": "3.11.4"
  }
 },
 "nbformat": 4,
 "nbformat_minor": 5
}
