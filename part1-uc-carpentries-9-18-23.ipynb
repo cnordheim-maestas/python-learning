{
 "cells": [
  {
   "cell_type": "code",
   "execution_count": 3,
   "id": "d7446a22-a199-45fb-b177-94a5ed0800cc",
   "metadata": {
    "tags": []
   },
   "outputs": [],
   "source": [
    "age = 42\n",
    "first_name = 'Ahmed'"
   ]
  },
  {
   "cell_type": "code",
   "execution_count": 4,
   "id": "7ed3644e-19c0-44cd-a555-8a044e01921a",
   "metadata": {
    "tags": []
   },
   "outputs": [
    {
     "name": "stdout",
     "output_type": "stream",
     "text": [
      "Ahmed is 42 years old\n"
     ]
    }
   ],
   "source": [
    "print(first_name, 'is', age, 'years old')"
   ]
  },
  {
   "cell_type": "code",
   "execution_count": 10,
   "id": "48885b54-9824-4165-b0e3-20ba3722ad91",
   "metadata": {
    "tags": []
   },
   "outputs": [
    {
     "name": "stdout",
     "output_type": "stream",
     "text": [
      "2\n"
     ]
    }
   ],
   "source": [
    "print(myval)"
   ]
  },
  {
   "cell_type": "code",
   "execution_count": 6,
   "id": "a1e288d4-13ad-43a7-a287-cd7cfdccb652",
   "metadata": {
    "tags": []
   },
   "outputs": [],
   "source": [
    "myval = 1"
   ]
  },
  {
   "cell_type": "code",
   "execution_count": 9,
   "id": "f7621751-a1ae-45da-8839-bbdd1388ead8",
   "metadata": {
    "tags": []
   },
   "outputs": [],
   "source": [
    "myval = 2"
   ]
  },
  {
   "cell_type": "code",
   "execution_count": 12,
   "id": "2e5c21f1-c0f7-4ed4-b086-aa5e409fefc6",
   "metadata": {
    "tags": []
   },
   "outputs": [
    {
     "name": "stdout",
     "output_type": "stream",
     "text": [
      "Age in three years: 48\n"
     ]
    }
   ],
   "source": [
    "age = age + 3\n",
    "print('Age in three years:', age)"
   ]
  },
  {
   "cell_type": "code",
   "execution_count": 14,
   "id": "9a78519a-5402-4fd0-8918-affd87ee9527",
   "metadata": {
    "tags": []
   },
   "outputs": [
    {
     "name": "stdout",
     "output_type": "stream",
     "text": [
      "48\n"
     ]
    }
   ],
   "source": [
    "print(age)"
   ]
  },
  {
   "cell_type": "code",
   "execution_count": 15,
   "id": "abbf85f9-897c-4371-b9dc-ce35d0c5283e",
   "metadata": {
    "tags": []
   },
   "outputs": [
    {
     "name": "stdout",
     "output_type": "stream",
     "text": [
      "h\n"
     ]
    }
   ],
   "source": [
    "atom_name = 'helium'\n",
    "print(atom_name[0])"
   ]
  },
  {
   "cell_type": "code",
   "execution_count": 16,
   "id": "3a3c531d-b350-456b-9384-ae77128f8ea6",
   "metadata": {
    "tags": []
   },
   "outputs": [
    {
     "name": "stdout",
     "output_type": "stream",
     "text": [
      "sod\n"
     ]
    }
   ],
   "source": [
    "atom_name = 'sodium'\n",
    "print(atom_name[0:3])"
   ]
  },
  {
   "cell_type": "code",
   "execution_count": 17,
   "id": "efcb5b93-2aa4-4f6d-b9b6-79dde34f41ac",
   "metadata": {
    "tags": []
   },
   "outputs": [],
   "source": [
    "species_name = 'Acacia buxifolia'"
   ]
  },
  {
   "cell_type": "code",
   "execution_count": 18,
   "id": "0f83c8d0-fe7f-4bae-9ad8-4eec56db1d63",
   "metadata": {
    "tags": []
   },
   "outputs": [
    {
     "data": {
      "text/plain": [
       "'folia'"
      ]
     },
     "execution_count": 18,
     "metadata": {},
     "output_type": "execute_result"
    }
   ],
   "source": [
    "species_name[11:]"
   ]
  },
  {
   "cell_type": "code",
   "execution_count": 20,
   "id": "6ea624cb-e5a0-4bac-b1b7-cb767faf77a3",
   "metadata": {
    "tags": []
   },
   "outputs": [
    {
     "data": {
      "text/plain": [
       "'Acac'"
      ]
     },
     "execution_count": 20,
     "metadata": {},
     "output_type": "execute_result"
    }
   ],
   "source": [
    "species_name[:4]"
   ]
  },
  {
   "cell_type": "code",
   "execution_count": 21,
   "id": "a02b9430-13ea-4131-b4f3-0929a71adcf1",
   "metadata": {
    "tags": []
   },
   "outputs": [
    {
     "data": {
      "text/plain": [
       "'Acacia buxifolia'"
      ]
     },
     "execution_count": 21,
     "metadata": {},
     "output_type": "execute_result"
    }
   ],
   "source": [
    "species_name[:]"
   ]
  },
  {
   "cell_type": "code",
   "execution_count": 22,
   "id": "a8f9dff0-eb07-4164-bbfd-a20e69db4152",
   "metadata": {
    "tags": []
   },
   "outputs": [
    {
     "name": "stdout",
     "output_type": "stream",
     "text": [
      "6\n"
     ]
    }
   ],
   "source": [
    "print(len('helium'))"
   ]
  },
  {
   "cell_type": "code",
   "execution_count": 23,
   "id": "34390980-8e90-48f8-bcf0-abc8a945e657",
   "metadata": {
    "tags": []
   },
   "outputs": [
    {
     "ename": "TypeError",
     "evalue": "'int' object is not subscriptable",
     "output_type": "error",
     "traceback": [
      "\u001b[0;31m---------------------------------------------------------------------------\u001b[0m",
      "\u001b[0;31mTypeError\u001b[0m                                 Traceback (most recent call last)",
      "Cell \u001b[0;32mIn[23], line 2\u001b[0m\n\u001b[1;32m      1\u001b[0m a \u001b[38;5;241m=\u001b[39m \u001b[38;5;241m123\u001b[39m\n\u001b[0;32m----> 2\u001b[0m \u001b[38;5;28mprint\u001b[39m(a[\u001b[38;5;241m1\u001b[39m])\n",
      "\u001b[0;31mTypeError\u001b[0m: 'int' object is not subscriptable"
     ]
    }
   ],
   "source": [
    "a = 123\n",
    "print(a[1])"
   ]
  },
  {
   "cell_type": "code",
   "execution_count": 24,
   "id": "b670b0a5-1974-4c39-8bd1-788df10a186b",
   "metadata": {
    "tags": []
   },
   "outputs": [
    {
     "name": "stdout",
     "output_type": "stream",
     "text": [
      "Variable       Type    Data/Info\n",
      "--------------------------------\n",
      "a              int     123\n",
      "age            int     48\n",
      "atom_name      str     sodium\n",
      "first_name     str     Ahmed\n",
      "myval          int     2\n",
      "species_name   str     Acacia buxifolia\n"
     ]
    }
   ],
   "source": [
    "%whos"
   ]
  },
  {
   "cell_type": "code",
   "execution_count": 25,
   "id": "d227602d-145f-4074-8ac1-82d14bea4abe",
   "metadata": {
    "tags": []
   },
   "outputs": [
    {
     "name": "stdout",
     "output_type": "stream",
     "text": [
      "12\n"
     ]
    }
   ],
   "source": [
    "print(str(1) + '2')"
   ]
  },
  {
   "cell_type": "code",
   "execution_count": 26,
   "id": "481ad853-f022-49b9-894d-1738e565b5f1",
   "metadata": {
    "tags": []
   },
   "outputs": [
    {
     "data": {
      "text/plain": [
       "0.5"
      ]
     },
     "execution_count": 26,
     "metadata": {},
     "output_type": "execute_result"
    }
   ],
   "source": [
    "1/2.0"
   ]
  },
  {
   "cell_type": "code",
   "execution_count": 27,
   "id": "dc051cf9-fe2b-43c9-ae73-2cd3eca566f3",
   "metadata": {
    "tags": []
   },
   "outputs": [
    {
     "data": {
      "text/plain": [
       "9.0"
      ]
     },
     "execution_count": 27,
     "metadata": {},
     "output_type": "execute_result"
    }
   ],
   "source": [
    "3.0 ** 2"
   ]
  },
  {
   "cell_type": "code",
   "execution_count": 28,
   "id": "350c7b89-c0d0-40b0-aafd-80e4b5d133cc",
   "metadata": {
    "tags": []
   },
   "outputs": [
    {
     "name": "stdout",
     "output_type": "stream",
     "text": [
      "first is 2 and second is 5\n"
     ]
    }
   ],
   "source": [
    "variable_one = 1\n",
    "variable_two = 5 * variable_one\n",
    "variable_one = 2\n",
    "print('first is', variable_one, 'and second is', variable_two)"
   ]
  },
  {
   "cell_type": "code",
   "execution_count": 29,
   "id": "1f0971d6-172c-4c61-a2e4-dd94441726be",
   "metadata": {
    "tags": []
   },
   "outputs": [
    {
     "data": {
      "text/plain": [
       "3.4"
      ]
     },
     "execution_count": 29,
     "metadata": {},
     "output_type": "execute_result"
    }
   ],
   "source": [
    "float('3.4')"
   ]
  },
  {
   "cell_type": "code",
   "execution_count": 30,
   "id": "d0c3eb4f-319a-4fd1-96f6-c0609f284cc8",
   "metadata": {
    "tags": []
   },
   "outputs": [
    {
     "data": {
      "text/plain": [
       "3"
      ]
     },
     "execution_count": 30,
     "metadata": {},
     "output_type": "execute_result"
    }
   ],
   "source": [
    "int(3.4)"
   ]
  },
  {
   "cell_type": "code",
   "execution_count": 31,
   "id": "03d51120-8cbb-474e-ba4a-d534d9c965d0",
   "metadata": {
    "tags": []
   },
   "outputs": [
    {
     "ename": "ValueError",
     "evalue": "could not convert string to float: 'Hello world'",
     "output_type": "error",
     "traceback": [
      "\u001b[0;31m---------------------------------------------------------------------------\u001b[0m",
      "\u001b[0;31mValueError\u001b[0m                                Traceback (most recent call last)",
      "Cell \u001b[0;32mIn[31], line 1\u001b[0m\n\u001b[0;32m----> 1\u001b[0m \u001b[38;5;28mfloat\u001b[39m(\u001b[38;5;124m'\u001b[39m\u001b[38;5;124mHello world\u001b[39m\u001b[38;5;124m'\u001b[39m)\n",
      "\u001b[0;31mValueError\u001b[0m: could not convert string to float: 'Hello world'"
     ]
    }
   ],
   "source": [
    "float('Hello world')"
   ]
  },
  {
   "cell_type": "code",
   "execution_count": 32,
   "id": "7f60e2b4-2fb9-4aea-bdcd-b76a96771d53",
   "metadata": {
    "tags": []
   },
   "outputs": [
    {
     "ename": "ValueError",
     "evalue": "invalid literal for int() with base 10: '3.4'",
     "output_type": "error",
     "traceback": [
      "\u001b[0;31m---------------------------------------------------------------------------\u001b[0m",
      "\u001b[0;31mValueError\u001b[0m                                Traceback (most recent call last)",
      "Cell \u001b[0;32mIn[32], line 1\u001b[0m\n\u001b[0;32m----> 1\u001b[0m \u001b[38;5;28mint\u001b[39m(\u001b[38;5;124m'\u001b[39m\u001b[38;5;124m3.4\u001b[39m\u001b[38;5;124m'\u001b[39m)\n",
      "\u001b[0;31mValueError\u001b[0m: invalid literal for int() with base 10: '3.4'"
     ]
    }
   ],
   "source": [
    "int('3.4')"
   ]
  },
  {
   "cell_type": "code",
   "execution_count": 33,
   "id": "40493dcf-ce88-4dfd-8bb9-cc53fa99f73b",
   "metadata": {
    "tags": []
   },
   "outputs": [
    {
     "data": {
      "text/plain": [
       "3"
      ]
     },
     "execution_count": 33,
     "metadata": {},
     "output_type": "execute_result"
    }
   ],
   "source": [
    "int(float('3.4'))"
   ]
  },
  {
   "cell_type": "code",
   "execution_count": 34,
   "id": "42496907-88f2-469e-9064-bf8f572a6c7f",
   "metadata": {
    "tags": []
   },
   "outputs": [],
   "source": [
    "# Commenting out\n",
    "adjustment=0.5 #commenting commenting commenting"
   ]
  },
  {
   "cell_type": "code",
   "execution_count": 35,
   "id": "0173b56c-2ef4-4697-bcb4-cfeb0c150182",
   "metadata": {
    "tags": []
   },
   "outputs": [
    {
     "name": "stdout",
     "output_type": "stream",
     "text": [
      "0.5\n"
     ]
    }
   ],
   "source": [
    "print(adjustment)"
   ]
  },
  {
   "cell_type": "code",
   "execution_count": 36,
   "id": "7a845687-ea35-437d-b6dd-b2e737bba788",
   "metadata": {
    "tags": []
   },
   "outputs": [
    {
     "name": "stdout",
     "output_type": "stream",
     "text": [
      "example\n",
      "None\n"
     ]
    }
   ],
   "source": [
    "result = print('example')\n",
    "print(result)"
   ]
  },
  {
   "cell_type": "code",
   "execution_count": 38,
   "id": "994c8421-3b0b-4421-9498-d7b022e02d85",
   "metadata": {
    "tags": []
   },
   "outputs": [
    {
     "name": "stdout",
     "output_type": "stream",
     "text": [
      "3\n",
      "0\n"
     ]
    }
   ],
   "source": [
    "print(max(1,2,3))\n",
    "print(min('a','A','0'))"
   ]
  },
  {
   "cell_type": "code",
   "execution_count": 39,
   "id": "2b92ad87-e553-4a9e-90de-bb89366b1efb",
   "metadata": {
    "tags": []
   },
   "outputs": [],
   "source": [
    "easy_string = 'abc'"
   ]
  },
  {
   "cell_type": "code",
   "execution_count": 40,
   "id": "d498cc3a-4d9d-438e-9136-00af3aad7c4b",
   "metadata": {
    "tags": []
   },
   "outputs": [
    {
     "name": "stdout",
     "output_type": "stream",
     "text": [
      "c\n"
     ]
    }
   ],
   "source": [
    "print(max(easy_string))"
   ]
  },
  {
   "cell_type": "code",
   "execution_count": 41,
   "id": "bb7a7516-b6f5-45ba-a03e-c0fb9139e143",
   "metadata": {
    "tags": []
   },
   "outputs": [
    {
     "name": "stdout",
     "output_type": "stream",
     "text": [
      "tin\n"
     ]
    }
   ],
   "source": [
    "rich = 'gold'\n",
    "poor = 'tin'\n",
    "print(max(rich,poor))"
   ]
  },
  {
   "cell_type": "code",
   "execution_count": 42,
   "id": "d5bced46-3f86-4e27-b95e-8ed7ed1f7b44",
   "metadata": {
    "tags": []
   },
   "outputs": [
    {
     "name": "stdout",
     "output_type": "stream",
     "text": [
      "4\n"
     ]
    }
   ],
   "source": [
    "print(max(len(rich), len(poor)))"
   ]
  },
  {
   "cell_type": "code",
   "execution_count": 43,
   "id": "42350db6-6188-4bd2-81e8-6357560c1add",
   "metadata": {
    "tags": []
   },
   "outputs": [
    {
     "data": {
      "text/plain": [
       "4"
      ]
     },
     "execution_count": 43,
     "metadata": {},
     "output_type": "execute_result"
    }
   ],
   "source": [
    "round(3.712)"
   ]
  },
  {
   "cell_type": "code",
   "execution_count": 45,
   "id": "89dbe2c8-8e7c-41bb-8260-3eecd0bbb1a3",
   "metadata": {
    "tags": []
   },
   "outputs": [
    {
     "data": {
      "text/plain": [
       "3.7"
      ]
     },
     "execution_count": 45,
     "metadata": {},
     "output_type": "execute_result"
    }
   ],
   "source": [
    "round(3.712, 1) #round to one decimal place"
   ]
  },
  {
   "cell_type": "code",
   "execution_count": 46,
   "id": "5ae51918-35a2-46c7-86dc-6a558664c2bc",
   "metadata": {
    "tags": []
   },
   "outputs": [],
   "source": [
    "my_string = \"Hello world!\""
   ]
  },
  {
   "cell_type": "code",
   "execution_count": 47,
   "id": "9a35f48b-2add-457b-b5ef-20f03c653f6f",
   "metadata": {
    "tags": []
   },
   "outputs": [
    {
     "name": "stdout",
     "output_type": "stream",
     "text": [
      "12\n"
     ]
    }
   ],
   "source": [
    "print(len(my_string))"
   ]
  },
  {
   "cell_type": "code",
   "execution_count": 48,
   "id": "4045564d-2a8c-4d85-8cf1-58a3dd7e1433",
   "metadata": {
    "tags": []
   },
   "outputs": [
    {
     "name": "stdout",
     "output_type": "stream",
     "text": [
      "hELLO WORLD!\n"
     ]
    }
   ],
   "source": [
    "print(my_string.swapcase())"
   ]
  },
  {
   "cell_type": "code",
   "execution_count": 49,
   "id": "fa264dd9-677a-4b3a-bdc8-402d96cd1011",
   "metadata": {
    "tags": []
   },
   "outputs": [
    {
     "name": "stdout",
     "output_type": "stream",
     "text": [
      "12\n"
     ]
    }
   ],
   "source": [
    "print(my_string.__len__())"
   ]
  },
  {
   "cell_type": "code",
   "execution_count": 50,
   "id": "d23d8880-f2b3-47f5-a696-18d9615e6011",
   "metadata": {
    "tags": []
   },
   "outputs": [
    {
     "name": "stdout",
     "output_type": "stream",
     "text": [
      "False\n"
     ]
    }
   ],
   "source": [
    "print(my_string.isupper())"
   ]
  },
  {
   "cell_type": "code",
   "execution_count": 51,
   "id": "271fc7fe-0ad1-4b66-b8e4-af52cad57f4d",
   "metadata": {
    "tags": []
   },
   "outputs": [
    {
     "name": "stdout",
     "output_type": "stream",
     "text": [
      "HELLO WORLD!\n"
     ]
    }
   ],
   "source": [
    "print(my_string.upper())"
   ]
  },
  {
   "cell_type": "code",
   "execution_count": 52,
   "id": "c2bada4d-13e7-4f05-af18-8d1ed3f3e560",
   "metadata": {
    "tags": []
   },
   "outputs": [
    {
     "name": "stdout",
     "output_type": "stream",
     "text": [
      "True\n"
     ]
    }
   ],
   "source": [
    "print(my_string.upper().isupper())"
   ]
  },
  {
   "cell_type": "code",
   "execution_count": 53,
   "id": "51f646e8-fe29-453a-9b2e-f1c579797f9d",
   "metadata": {
    "tags": []
   },
   "outputs": [
    {
     "name": "stdout",
     "output_type": "stream",
     "text": [
      "Help on built-in function round in module builtins:\n",
      "\n",
      "round(number, ndigits=None)\n",
      "    Round a number to a given precision in decimal digits.\n",
      "    \n",
      "    The return value is an integer if ndigits is omitted or None.  Otherwise\n",
      "    the return value has the same type as the number.  ndigits may be negative.\n",
      "\n"
     ]
    }
   ],
   "source": [
    "help(round)"
   ]
  },
  {
   "cell_type": "code",
   "execution_count": 54,
   "id": "bb3dab5d-8af3-4fa2-a495-b172c3e985f9",
   "metadata": {
    "tags": []
   },
   "outputs": [
    {
     "data": {
      "text/plain": [
       "\u001b[0;31mSignature:\u001b[0m \u001b[0mround\u001b[0m\u001b[0;34m(\u001b[0m\u001b[0mnumber\u001b[0m\u001b[0;34m,\u001b[0m \u001b[0mndigits\u001b[0m\u001b[0;34m=\u001b[0m\u001b[0;32mNone\u001b[0m\u001b[0;34m)\u001b[0m\u001b[0;34m\u001b[0m\u001b[0;34m\u001b[0m\u001b[0m\n",
       "\u001b[0;31mDocstring:\u001b[0m\n",
       "Round a number to a given precision in decimal digits.\n",
       "\n",
       "The return value is an integer if ndigits is omitted or None.  Otherwise\n",
       "the return value has the same type as the number.  ndigits may be negative.\n",
       "\u001b[0;31mType:\u001b[0m      builtin_function_or_method"
      ]
     },
     "metadata": {},
     "output_type": "display_data"
    }
   ],
   "source": [
    "round?"
   ]
  },
  {
   "cell_type": "code",
   "execution_count": null,
   "id": "ec1ebb38-1664-4478-abcd-723811cf40e5",
   "metadata": {},
   "outputs": [],
   "source": []
  }
 ],
 "metadata": {
  "kernelspec": {
   "display_name": "Python 3 (ipykernel)",
   "language": "python",
   "name": "python3"
  },
  "language_info": {
   "codemirror_mode": {
    "name": "ipython",
    "version": 3
   },
   "file_extension": ".py",
   "mimetype": "text/x-python",
   "name": "python",
   "nbconvert_exporter": "python",
   "pygments_lexer": "ipython3",
   "version": "3.11.4"
  }
 },
 "nbformat": 4,
 "nbformat_minor": 5
}
