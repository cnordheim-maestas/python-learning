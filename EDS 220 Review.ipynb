{
 "cells": [
  {
   "cell_type": "markdown",
   "id": "e2424e2c-7c4b-4bd1-81bb-1b9c9b99beeb",
   "metadata": {},
   "source": [
    "# EDS 220 Python Essentials Review"
   ]
  },
  {
   "cell_type": "markdown",
   "id": "36d3f641-c714-4609-baa2-2f2488550f8d",
   "metadata": {},
   "source": [
    "## Carpentries Review\n",
    "Source: http://swcarpentry.github.io/python-novice-gapminder/index.html"
   ]
  },
  {
   "cell_type": "markdown",
   "id": "7d21245b-f0fc-4ef3-99dc-5e25932dd354",
   "metadata": {},
   "source": [
    "### Variables"
   ]
  },
  {
   "cell_type": "code",
   "execution_count": 4,
   "id": "49c1e05e-72dd-45ce-a46f-805f3f4efdcb",
   "metadata": {
    "tags": []
   },
   "outputs": [],
   "source": [
    "# Variable assignment\n",
    "age=26\n",
    "first_name = \"Caitlin\""
   ]
  },
  {
   "cell_type": "code",
   "execution_count": 5,
   "id": "95b8b4d8-f548-4abc-99b9-f9f78979b370",
   "metadata": {
    "tags": []
   },
   "outputs": [
    {
     "data": {
      "text/plain": [
       "26"
      ]
     },
     "execution_count": 5,
     "metadata": {},
     "output_type": "execute_result"
    }
   ],
   "source": [
    "age"
   ]
  },
  {
   "cell_type": "code",
   "execution_count": 7,
   "id": "f70a1dbf-90cb-4922-b174-fd9b2d3670fc",
   "metadata": {
    "tags": []
   },
   "outputs": [
    {
     "name": "stdout",
     "output_type": "stream",
     "text": [
      "Caitlin is 26\n"
     ]
    }
   ],
   "source": [
    "print(first_name, \"is\", age)\n",
    "# print puts a space between items, don't need to specify"
   ]
  },
  {
   "cell_type": "code",
   "execution_count": 10,
   "id": "cb595d67-e9b0-4a84-a106-83e9e968977b",
   "metadata": {
    "tags": []
   },
   "outputs": [
    {
     "name": "stdout",
     "output_type": "stream",
     "text": [
      "Age next year: 27\n"
     ]
    }
   ],
   "source": [
    "age_2025 = age + 1\n",
    "print(\"Age next year:\", age_2025)"
   ]
  },
  {
   "cell_type": "code",
   "execution_count": 16,
   "id": "91b9d0db-187f-4ac8-8c8b-eb27f9b161e9",
   "metadata": {
    "tags": []
   },
   "outputs": [
    {
     "name": "stdout",
     "output_type": "stream",
     "text": [
      "3\n"
     ]
    },
    {
     "data": {
      "text/plain": [
       "3"
      ]
     },
     "execution_count": 16,
     "metadata": {},
     "output_type": "execute_result"
    }
   ],
   "source": [
    "# Indexing starts at 0!\n",
    "nums= 1,2,3\n",
    "print(nums[2]) # to get number 3, need to do [2] because starts at 0\n",
    "nums[2]"
   ]
  },
  {
   "cell_type": "code",
   "execution_count": 14,
   "id": "7655527e-9735-4591-ab19-500124beaff6",
   "metadata": {
    "tags": []
   },
   "outputs": [
    {
     "name": "stdout",
     "output_type": "stream",
     "text": [
      "Cait\n"
     ]
    }
   ],
   "source": [
    "# Substring: part of a string\n",
    "# Slice: part of a string\n",
    "# Slice notation: [start:stop]\n",
    "\n",
    "first_name = \"Caitlin\"\n",
    "print(first_name[0:4]) # note the last is not inclusive, will not print position 4"
   ]
  },
  {
   "cell_type": "code",
   "execution_count": 15,
   "id": "000938b3-310c-4595-9f66-490b6a3f45bc",
   "metadata": {
    "tags": []
   },
   "outputs": [
    {
     "name": "stdout",
     "output_type": "stream",
     "text": [
      "7\n"
     ]
    }
   ],
   "source": [
    "# len function\n",
    "print(len(\"Caitlin\"))"
   ]
  },
  {
   "cell_type": "code",
   "execution_count": 31,
   "id": "95ca1a94-fa5d-4584-98df-cfe61b94630b",
   "metadata": {
    "tags": []
   },
   "outputs": [
    {
     "ename": "TypeError",
     "evalue": "object of type 'int' has no len()",
     "output_type": "error",
     "traceback": [
      "\u001b[0;31m---------------------------------------------------------------------------\u001b[0m",
      "\u001b[0;31mTypeError\u001b[0m                                 Traceback (most recent call last)",
      "Cell \u001b[0;32mIn[31], line 2\u001b[0m\n\u001b[1;32m      1\u001b[0m \u001b[38;5;66;03m# numbers don't have a \"length\"\u001b[39;00m\n\u001b[0;32m----> 2\u001b[0m \u001b[38;5;28mlen\u001b[39m(\u001b[38;5;241m42\u001b[39m)\n",
      "\u001b[0;31mTypeError\u001b[0m: object of type 'int' has no len()"
     ]
    }
   ],
   "source": [
    "# numbers don't have a \"length\"\n",
    "len(42) # intentional error"
   ]
  },
  {
   "cell_type": "markdown",
   "id": "b38d7166-0f06-48a8-8505-681fa7e7c3f3",
   "metadata": {},
   "source": [
    "### Data types and data conversion"
   ]
  },
  {
   "cell_type": "markdown",
   "id": "2c88cbd0-b528-4be1-aca8-482a39cd4123",
   "metadata": {},
   "source": [
    "* int: Integer: positive or negative whole numbers (1, -2)\n",
    "* float: Real number (1.3)\n",
    "* str: String: text (\"hello\")"
   ]
  },
  {
   "cell_type": "code",
   "execution_count": 18,
   "id": "8e488ab9-65ab-496d-87c9-53b21cbf4fcd",
   "metadata": {
    "tags": []
   },
   "outputs": [
    {
     "name": "stdout",
     "output_type": "stream",
     "text": [
      "<class 'int'>\n"
     ]
    }
   ],
   "source": [
    "# Get the datatype (aka class) using type function\n",
    "\n",
    "print(type(52))"
   ]
  },
  {
   "cell_type": "code",
   "execution_count": 22,
   "id": "9de37530-faa7-4d3e-8774-0b4cfc2a794a",
   "metadata": {
    "tags": []
   },
   "outputs": [
    {
     "ename": "TypeError",
     "evalue": "unsupported operand type(s) for -: 'str' and 'str'",
     "output_type": "error",
     "traceback": [
      "\u001b[0;31m---------------------------------------------------------------------------\u001b[0m",
      "\u001b[0;31mTypeError\u001b[0m                                 Traceback (most recent call last)",
      "Cell \u001b[0;32mIn[22], line 4\u001b[0m\n\u001b[1;32m      1\u001b[0m \u001b[38;5;66;03m# The functions possible depend on the type!\u001b[39;00m\n\u001b[1;32m      2\u001b[0m \u001b[38;5;66;03m# Ex: Can't do subtraction a string\u001b[39;00m\n\u001b[0;32m----> 4\u001b[0m \u001b[38;5;28mprint\u001b[39m(\u001b[38;5;124m\"\u001b[39m\u001b[38;5;124mhello\u001b[39m\u001b[38;5;124m\"\u001b[39m\u001b[38;5;241m-\u001b[39m\u001b[38;5;124m\"\u001b[39m\u001b[38;5;124mh\u001b[39m\u001b[38;5;124m\"\u001b[39m)\n",
      "\u001b[0;31mTypeError\u001b[0m: unsupported operand type(s) for -: 'str' and 'str'"
     ]
    }
   ],
   "source": [
    "# The functions possible depend on the type!\n",
    "# Ex: Can't do subtraction a string\n",
    "\n",
    "print(\"hello\"-\"h\") #intentional error"
   ]
  },
  {
   "cell_type": "code",
   "execution_count": 21,
   "id": "c731da05-95ee-4f02-ab52-aa104ed949b3",
   "metadata": {
    "tags": []
   },
   "outputs": [
    {
     "name": "stdout",
     "output_type": "stream",
     "text": [
      "2\n"
     ]
    }
   ],
   "source": [
    "print(5-3)"
   ]
  },
  {
   "cell_type": "code",
   "execution_count": 26,
   "id": "62ef327d-6667-4482-8fce-1268504e58b5",
   "metadata": {
    "tags": []
   },
   "outputs": [
    {
     "name": "stdout",
     "output_type": "stream",
     "text": [
      "Caitlin Nordheim-Maestas\n"
     ]
    }
   ],
   "source": [
    "# But you can + with strings!\n",
    "\n",
    "full_name = \"Caitlin\" + \" \" + \"Nordheim-Maestas\"\n",
    "print(full_name)"
   ]
  },
  {
   "cell_type": "code",
   "execution_count": 30,
   "id": "57f42d1e-8333-47c8-b94b-407aca6ae494",
   "metadata": {
    "tags": []
   },
   "outputs": [
    {
     "name": "stdout",
     "output_type": "stream",
     "text": [
      "==========\n",
      "Caitlin Nordheim-MaestasCaitlin Nordheim-MaestasCaitlin Nordheim-MaestasCaitlin Nordheim-MaestasCaitlin Nordheim-MaestasCaitlin Nordheim-MaestasCaitlin Nordheim-MaestasCaitlin Nordheim-MaestasCaitlin Nordheim-MaestasCaitlin Nordheim-Maestas\n"
     ]
    }
   ],
   "source": [
    "# You can use = with strings too to multiply a character string by an integer\n",
    "# = is repeated addion\n",
    "\n",
    "x= \"=\" * 10\n",
    "print(x)\n",
    "\n",
    "full_name_10 = full_name * 10\n",
    "print(full_name_10)"
   ]
  },
  {
   "cell_type": "code",
   "execution_count": 33,
   "id": "54b28e0f-a10d-4364-bb43-32adc1975d9c",
   "metadata": {
    "tags": []
   },
   "outputs": [
    {
     "ename": "TypeError",
     "evalue": "unsupported operand type(s) for +: 'int' and 'str'",
     "output_type": "error",
     "traceback": [
      "\u001b[0;31m---------------------------------------------------------------------------\u001b[0m",
      "\u001b[0;31mTypeError\u001b[0m                                 Traceback (most recent call last)",
      "Cell \u001b[0;32mIn[33], line 2\u001b[0m\n\u001b[1;32m      1\u001b[0m \u001b[38;5;66;03m# Cannot add numbers and strings\u001b[39;00m\n\u001b[0;32m----> 2\u001b[0m \u001b[38;5;28mprint\u001b[39m(\u001b[38;5;241m1\u001b[39m\u001b[38;5;241m+\u001b[39m\u001b[38;5;124m\"\u001b[39m\u001b[38;5;124m2\u001b[39m\u001b[38;5;124m\"\u001b[39m)\n",
      "\u001b[0;31mTypeError\u001b[0m: unsupported operand type(s) for +: 'int' and 'str'"
     ]
    }
   ],
   "source": [
    "# Cannot add numbers and strings\n",
    "print(1+\"2\") #intentional error"
   ]
  },
  {
   "cell_type": "code",
   "execution_count": 38,
   "id": "d596cae4-a035-4d60-8858-f319e55b75d7",
   "metadata": {
    "tags": []
   },
   "outputs": [
    {
     "name": "stdout",
     "output_type": "stream",
     "text": [
      "3\n",
      "12\n"
     ]
    }
   ],
   "source": [
    "# Must convert first\n",
    "# Can convert within the function\n",
    "\n",
    "print(1 + int('2')) # as integers\n",
    "      \n",
    "print(str(1) + \"2\") # as strings"
   ]
  },
  {
   "cell_type": "code",
   "execution_count": 40,
   "id": "450ec3b8-2b7a-47a5-9e7e-0c0e8a8d5c5f",
   "metadata": {
    "tags": []
   },
   "outputs": [
    {
     "name": "stdout",
     "output_type": "stream",
     "text": [
      "<class 'float'>\n"
     ]
    }
   ],
   "source": [
    "# Practice: what type of value is 3.4?\n",
    "\n",
    "print(type(3.4))"
   ]
  },
  {
   "cell_type": "code",
   "execution_count": 42,
   "id": "fff8d685-222d-4aa2-a00b-285dd1bc7b04",
   "metadata": {
    "tags": []
   },
   "outputs": [
    {
     "name": "stdout",
     "output_type": "stream",
     "text": [
      "string to float: 3.4\n",
      "float to int: 3\n"
     ]
    }
   ],
   "source": [
    "# Strings to numbers: when you have a decimal,\n",
    "# string --> float --> int\n",
    "# can't handle string --> int when the value is a decimal\n",
    "\n",
    "print(\"string to float:\", float(\"3.4\")) #can easily turn string into float\n",
    "print(\"float to int:\", int(3.4)) #will turn float into integer"
   ]
  },
  {
   "cell_type": "code",
   "execution_count": 43,
   "id": "d34ab72f-ca84-4cf3-b800-aa5c83e24c39",
   "metadata": {
    "tags": []
   },
   "outputs": [
    {
     "ename": "ValueError",
     "evalue": "invalid literal for int() with base 10: '3.4'",
     "output_type": "error",
     "traceback": [
      "\u001b[0;31m---------------------------------------------------------------------------\u001b[0m",
      "\u001b[0;31mValueError\u001b[0m                                Traceback (most recent call last)",
      "Cell \u001b[0;32mIn[43], line 1\u001b[0m\n\u001b[0;32m----> 1\u001b[0m \u001b[38;5;28mint\u001b[39m(\u001b[38;5;124m\"\u001b[39m\u001b[38;5;124m3.4\u001b[39m\u001b[38;5;124m\"\u001b[39m)\n",
      "\u001b[0;31mValueError\u001b[0m: invalid literal for int() with base 10: '3.4'"
     ]
    }
   ],
   "source": [
    "int(\"3.4\") #can't handle it!"
   ]
  },
  {
   "cell_type": "code",
   "execution_count": 45,
   "id": "aa58fe4e-e23f-4425-bb76-4d472da1ad04",
   "metadata": {
    "tags": []
   },
   "outputs": [
    {
     "data": {
      "text/plain": [
       "3"
      ]
     },
     "execution_count": 45,
     "metadata": {},
     "output_type": "execute_result"
    }
   ],
   "source": [
    "int(float(\"3.4\")) # need to hand hold by making it a float first"
   ]
  },
  {
   "cell_type": "markdown",
   "id": "c916a69c-aa5d-43db-9814-daaf1b32683e",
   "metadata": {
    "tags": []
   },
   "source": [
    "### Built in functions"
   ]
  },
  {
   "cell_type": "code",
   "execution_count": 49,
   "id": "cd2dba59-6590-4672-b9a4-834d200ad11a",
   "metadata": {
    "tags": []
   },
   "outputs": [
    {
     "name": "stdout",
     "output_type": "stream",
     "text": [
      "3\n",
      "0\n"
     ]
    }
   ],
   "source": [
    "# Max, min\n",
    "\n",
    "print(max(1, 2, 3))\n",
    "print(min('a', 'A', '0')) #(0-9, A-Z, a-z) to compare within strings"
   ]
  },
  {
   "cell_type": "code",
   "execution_count": 50,
   "id": "b06f0ee1-4a3b-413d-86c6-c50664109909",
   "metadata": {
    "tags": []
   },
   "outputs": [
    {
     "data": {
      "text/plain": [
       "3"
      ]
     },
     "execution_count": 50,
     "metadata": {},
     "output_type": "execute_result"
    }
   ],
   "source": [
    "# round\n",
    "round(3.452)"
   ]
  },
  {
   "cell_type": "code",
   "execution_count": 51,
   "id": "0dad4ece-6304-474e-bee3-36c9a7ffaa3b",
   "metadata": {
    "tags": []
   },
   "outputs": [
    {
     "data": {
      "text/plain": [
       "3.5"
      ]
     },
     "execution_count": 51,
     "metadata": {},
     "output_type": "execute_result"
    }
   ],
   "source": [
    "# round and give decimal places\n",
    "\n",
    "round(3.542, 1) #(number, num decimal places)"
   ]
  },
  {
   "cell_type": "markdown",
   "id": "c9bd179f-370f-41ff-b1df-0f1c33b8f27e",
   "metadata": {},
   "source": [
    "Note: Functions attached to objects are called methods\n",
    "\n",
    "Methods have parentheses like functions, but come after the variable.\n",
    "Some methods are used for internal Python operations, and are marked with double underlines.\n",
    "\n",
    "Added on using the \".\""
   ]
  },
  {
   "cell_type": "code",
   "execution_count": 54,
   "id": "d26ad4aa-9ba6-4320-94d6-f8bb9ecc5dbf",
   "metadata": {
    "tags": []
   },
   "outputs": [
    {
     "name": "stdout",
     "output_type": "stream",
     "text": [
      "hELLO WORLD!\n"
     ]
    }
   ],
   "source": [
    "my_string = 'Hello world!'\n",
    "print(my_string.swapcase()) # calling the swapcase method on the my_string object"
   ]
  },
  {
   "cell_type": "code",
   "execution_count": 57,
   "id": "fd4a9ec5-0591-4aa9-83ee-dae9563d5a6d",
   "metadata": {
    "tags": []
   },
   "outputs": [
    {
     "name": "stdout",
     "output_type": "stream",
     "text": [
      "Help on class range in module builtins:\n",
      "\n",
      "class range(object)\n",
      " |  range(stop) -> range object\n",
      " |  range(start, stop[, step]) -> range object\n",
      " |  \n",
      " |  Return an object that produces a sequence of integers from start (inclusive)\n",
      " |  to stop (exclusive) by step.  range(i, j) produces i, i+1, i+2, ..., j-1.\n",
      " |  start defaults to 0, and stop is omitted!  range(4) produces 0, 1, 2, 3.\n",
      " |  These are exactly the valid indices for a list of 4 elements.\n",
      " |  When step is given, it specifies the increment (or decrement).\n",
      " |  \n",
      " |  Methods defined here:\n",
      " |  \n",
      " |  __bool__(self, /)\n",
      " |      True if self else False\n",
      " |  \n",
      " |  __contains__(self, key, /)\n",
      " |      Return key in self.\n",
      " |  \n",
      " |  __eq__(self, value, /)\n",
      " |      Return self==value.\n",
      " |  \n",
      " |  __ge__(self, value, /)\n",
      " |      Return self>=value.\n",
      " |  \n",
      " |  __getattribute__(self, name, /)\n",
      " |      Return getattr(self, name).\n",
      " |  \n",
      " |  __getitem__(self, key, /)\n",
      " |      Return self[key].\n",
      " |  \n",
      " |  __gt__(self, value, /)\n",
      " |      Return self>value.\n",
      " |  \n",
      " |  __hash__(self, /)\n",
      " |      Return hash(self).\n",
      " |  \n",
      " |  __iter__(self, /)\n",
      " |      Implement iter(self).\n",
      " |  \n",
      " |  __le__(self, value, /)\n",
      " |      Return self<=value.\n",
      " |  \n",
      " |  __len__(self, /)\n",
      " |      Return len(self).\n",
      " |  \n",
      " |  __lt__(self, value, /)\n",
      " |      Return self<value.\n",
      " |  \n",
      " |  __ne__(self, value, /)\n",
      " |      Return self!=value.\n",
      " |  \n",
      " |  __reduce__(...)\n",
      " |      Helper for pickle.\n",
      " |  \n",
      " |  __repr__(self, /)\n",
      " |      Return repr(self).\n",
      " |  \n",
      " |  __reversed__(...)\n",
      " |      Return a reverse iterator.\n",
      " |  \n",
      " |  count(...)\n",
      " |      rangeobject.count(value) -> integer -- return number of occurrences of value\n",
      " |  \n",
      " |  index(...)\n",
      " |      rangeobject.index(value) -> integer -- return index of value.\n",
      " |      Raise ValueError if the value is not present.\n",
      " |  \n",
      " |  ----------------------------------------------------------------------\n",
      " |  Static methods defined here:\n",
      " |  \n",
      " |  __new__(*args, **kwargs) from builtins.type\n",
      " |      Create and return a new object.  See help(type) for accurate signature.\n",
      " |  \n",
      " |  ----------------------------------------------------------------------\n",
      " |  Data descriptors defined here:\n",
      " |  \n",
      " |  start\n",
      " |  \n",
      " |  step\n",
      " |  \n",
      " |  stop\n",
      "\n"
     ]
    }
   ],
   "source": [
    "# Review range function using help\n",
    "help(range)"
   ]
  },
  {
   "cell_type": "code",
   "execution_count": 62,
   "id": "1d3a4cb9-014e-4d00-97ed-724817764061",
   "metadata": {
    "tags": []
   },
   "outputs": [
    {
     "data": {
      "text/plain": [
       "range(0, 3)"
      ]
     },
     "execution_count": 62,
     "metadata": {},
     "output_type": "execute_result"
    }
   ],
   "source": [
    "# from start (inclusive) to stop (exclusive) by step\n",
    "# start defaults to 0, that makes sense\n",
    "\n",
    "range(3)"
   ]
  },
  {
   "cell_type": "markdown",
   "id": "4f7e246a-46e0-4664-b9f8-50790a19b6a6",
   "metadata": {},
   "source": [
    "### Libraries"
   ]
  },
  {
   "cell_type": "markdown",
   "id": "10d31689-00b2-4a42-ae84-a6b4e33cc062",
   "metadata": {},
   "source": [
    "Note: Python uses . to mean “part of”\n",
    "example: math.cos(pi) is like saying the cosign function of pi is part of the math library"
   ]
  },
  {
   "cell_type": "code",
   "execution_count": 64,
   "id": "33b710ed-1817-46d7-bf0f-248b379c2702",
   "metadata": {
    "tags": []
   },
   "outputs": [],
   "source": [
    "import math"
   ]
  },
  {
   "cell_type": "code",
   "execution_count": 65,
   "id": "81ae432b-a0c5-44ef-bbb5-376149232a05",
   "metadata": {
    "tags": []
   },
   "outputs": [
    {
     "name": "stdout",
     "output_type": "stream",
     "text": [
      "3.141592653589793\n"
     ]
    }
   ],
   "source": [
    "print(math.pi)"
   ]
  },
  {
   "cell_type": "code",
   "execution_count": 66,
   "id": "ae0c0200-7162-4577-84ea-28e6e39c8c91",
   "metadata": {
    "tags": []
   },
   "outputs": [
    {
     "name": "stdout",
     "output_type": "stream",
     "text": [
      "cos(pi) is -1.0\n"
     ]
    }
   ],
   "source": [
    "print('cos(pi) is', math.cos(math.pi))"
   ]
  },
  {
   "cell_type": "code",
   "execution_count": 67,
   "id": "e2f7e264-a291-48dc-b50f-ff75867a9b9e",
   "metadata": {
    "tags": []
   },
   "outputs": [],
   "source": [
    "# Can import parts of a library instead of whole thing\n",
    "\n",
    "from math import cos, pi"
   ]
  },
  {
   "cell_type": "code",
   "execution_count": 72,
   "id": "397c130a-1996-477d-9815-e2d65d2057e6",
   "metadata": {
    "tags": []
   },
   "outputs": [
    {
     "name": "stdout",
     "output_type": "stream",
     "text": [
      "cos(pi) is -1.0\n"
     ]
    }
   ],
   "source": [
    "print('cos(pi) is', cos(pi)) # note: no \"math.\""
   ]
  },
  {
   "cell_type": "code",
   "execution_count": 69,
   "id": "72ae9d54-be9c-453f-a39f-5428c0c79671",
   "metadata": {
    "tags": []
   },
   "outputs": [],
   "source": [
    "# Can make an alias so you don't have to type out \"math\" all the time\n",
    "\n",
    "import math as m"
   ]
  },
  {
   "cell_type": "code",
   "execution_count": 73,
   "id": "3ce1a11c-65f9-499d-991b-c189e9ef0c1f",
   "metadata": {
    "tags": []
   },
   "outputs": [
    {
     "name": "stdout",
     "output_type": "stream",
     "text": [
      "cos(pi) is -1.0\n"
     ]
    }
   ],
   "source": [
    "print('cos(pi) is', m.cos(m.pi)) # note the \"m.\""
   ]
  },
  {
   "cell_type": "markdown",
   "id": "dcae253e-81bf-4ab7-b838-246753e3f037",
   "metadata": {},
   "source": [
    "### Reading Tabular Data into DataFrames"
   ]
  },
  {
   "cell_type": "code",
   "execution_count": 74,
   "id": "bc205600-c9b8-4f88-893b-5f9d5746d6c5",
   "metadata": {
    "tags": []
   },
   "outputs": [],
   "source": [
    "# Import library\n",
    "\n",
    "import pandas as pd"
   ]
  },
  {
   "cell_type": "code",
   "execution_count": null,
   "id": "4a5e018c-dcf9-4ea6-b00e-3acfa425b9f8",
   "metadata": {},
   "outputs": [],
   "source": [
    "# read in csv file\n",
    "\n"
   ]
  }
 ],
 "metadata": {
  "kernelspec": {
   "display_name": "Python 3 (ipykernel)",
   "language": "python",
   "name": "python3"
  },
  "language_info": {
   "codemirror_mode": {
    "name": "ipython",
    "version": 3
   },
   "file_extension": ".py",
   "mimetype": "text/x-python",
   "name": "python",
   "nbconvert_exporter": "python",
   "pygments_lexer": "ipython3",
   "version": "3.11.4"
  }
 },
 "nbformat": 4,
 "nbformat_minor": 5
}
