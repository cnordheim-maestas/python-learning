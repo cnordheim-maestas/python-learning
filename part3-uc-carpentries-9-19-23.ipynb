{
 "cells": [
  {
   "cell_type": "markdown",
   "id": "944e10b9-b790-4f5f-a425-0f5a0241dbbc",
   "metadata": {},
   "source": [
    "# Lists, Loops, and Conditionals"
   ]
  },
  {
   "cell_type": "markdown",
   "id": "81545341-746d-4565-aa45-f90793694033",
   "metadata": {},
   "source": [
    "Resource: http://swcarpentry.github.io/python-novice-gapminder/index.html"
   ]
  },
  {
   "cell_type": "code",
   "execution_count": 17,
   "id": "20bf8860-abdf-4bb3-a53d-b0685fc9b721",
   "metadata": {
    "tags": []
   },
   "outputs": [],
   "source": [
    "degrees_today = 63.2"
   ]
  },
  {
   "cell_type": "code",
   "execution_count": 18,
   "id": "67958c81-7614-46e7-85e9-8607a378db22",
   "metadata": {
    "tags": []
   },
   "outputs": [
    {
     "name": "stdout",
     "output_type": "stream",
     "text": [
      "63.2\n"
     ]
    }
   ],
   "source": [
    "print(degrees_today)"
   ]
  },
  {
   "cell_type": "code",
   "execution_count": 3,
   "id": "a28f2649-8f14-4425-8362-8b58e22efb5a",
   "metadata": {
    "tags": []
   },
   "outputs": [],
   "source": [
    "# list - all temperature readings\n",
    "# loop - take a look at each reading\n",
    "# conditionals - do somethng based on the value of a reading"
   ]
  },
  {
   "cell_type": "code",
   "execution_count": 4,
   "id": "d541344e-59d1-47c4-9516-3f1a448e28c6",
   "metadata": {
    "tags": []
   },
   "outputs": [],
   "source": [
    "temperatures = [66,68,72,65,61,60,68]"
   ]
  },
  {
   "cell_type": "code",
   "execution_count": 5,
   "id": "62425219-9224-422e-89ec-e84db7a187d5",
   "metadata": {
    "tags": []
   },
   "outputs": [
    {
     "name": "stdout",
     "output_type": "stream",
     "text": [
      "[66, 68, 72, 65, 61, 60, 68]\n"
     ]
    }
   ],
   "source": [
    "print(temperatures)"
   ]
  },
  {
   "cell_type": "code",
   "execution_count": 6,
   "id": "51702f42-7268-478f-bf81-de37697759bb",
   "metadata": {
    "tags": []
   },
   "outputs": [
    {
     "data": {
      "text/plain": [
       "list"
      ]
     },
     "execution_count": 6,
     "metadata": {},
     "output_type": "execute_result"
    }
   ],
   "source": [
    "type(temperatures)"
   ]
  },
  {
   "cell_type": "code",
   "execution_count": 8,
   "id": "68826bcf-3623-43de-b07a-9fcceebdee1c",
   "metadata": {
    "tags": []
   },
   "outputs": [
    {
     "data": {
      "text/plain": [
       "int"
      ]
     },
     "execution_count": 8,
     "metadata": {},
     "output_type": "execute_result"
    }
   ],
   "source": [
    "type(temperatures[0]) # what's the first item's type?"
   ]
  },
  {
   "cell_type": "code",
   "execution_count": 14,
   "id": "3f947823-6f9e-4247-9bae-66625ac82012",
   "metadata": {
    "tags": []
   },
   "outputs": [
    {
     "data": {
      "text/plain": [
       "[72, 65, 61]"
      ]
     },
     "execution_count": 14,
     "metadata": {},
     "output_type": "execute_result"
    }
   ],
   "source": [
    "temperatures[2:5] #does not include number 5; exclusive!"
   ]
  },
  {
   "cell_type": "code",
   "execution_count": 12,
   "id": "ce9b9a55-84da-4cde-9605-c487a543eca4",
   "metadata": {
    "tags": []
   },
   "outputs": [
    {
     "data": {
      "text/plain": [
       "[66, 68, 72, 65, 61, 60, 68]"
      ]
     },
     "execution_count": 12,
     "metadata": {},
     "output_type": "execute_result"
    }
   ],
   "source": [
    "temperatures \n",
    "# note you don't have to use print function, \n",
    "# but it may look different!"
   ]
  },
  {
   "cell_type": "code",
   "execution_count": 15,
   "id": "7b8e3459-8fc5-47e3-8c06-9d98239aa147",
   "metadata": {
    "tags": []
   },
   "outputs": [],
   "source": [
    "# Let's say the 60 degrees was a mistake, it was actually 64 degrees\n",
    "temperatures[5] = 64"
   ]
  },
  {
   "cell_type": "code",
   "execution_count": 16,
   "id": "d2f30b5d-3f72-44e3-bc42-ada5c2b5f9fe",
   "metadata": {
    "tags": []
   },
   "outputs": [
    {
     "data": {
      "text/plain": [
       "[66, 68, 72, 65, 61, 64, 68]"
      ]
     },
     "execution_count": 16,
     "metadata": {},
     "output_type": "execute_result"
    }
   ],
   "source": [
    "temperatures"
   ]
  },
  {
   "cell_type": "code",
   "execution_count": 19,
   "id": "66ab111a-2588-423d-ae09-46988a2cd613",
   "metadata": {
    "tags": []
   },
   "outputs": [],
   "source": [
    "# Note you can't assign a certain spot in a STRING!"
   ]
  },
  {
   "cell_type": "markdown",
   "id": "696e4ece-3e05-464a-9bf8-082e6bb368e8",
   "metadata": {},
   "source": [
    "## Loops"
   ]
  },
  {
   "cell_type": "code",
   "execution_count": 25,
   "id": "fc5476c1-3d18-494d-a67d-c8eabb15e7ae",
   "metadata": {
    "tags": []
   },
   "outputs": [],
   "source": [
    "# Enumerating Loop"
   ]
  },
  {
   "cell_type": "code",
   "execution_count": 34,
   "id": "1e3bbc2c-1752-4f9d-9c59-df8eadd0dc6a",
   "metadata": {
    "tags": []
   },
   "outputs": [
    {
     "name": "stdout",
     "output_type": "stream",
     "text": [
      "66\n",
      "68\n",
      "72\n",
      "65\n",
      "61\n",
      "64\n",
      "68\n",
      "finished\n"
     ]
    }
   ],
   "source": [
    "# simpler method, better if you don't need to know where you are in the loop\n",
    "for t in temperatures:\n",
    "    print(t)\n",
    "    \n",
    "print('finished') #this is \"out of the loop\""
   ]
  },
  {
   "cell_type": "code",
   "execution_count": 23,
   "id": "b40896e2-b24e-4534-ab0b-6ee5809af3e0",
   "metadata": {
    "tags": []
   },
   "outputs": [
    {
     "name": "stdout",
     "output_type": "stream",
     "text": [
      "66\n",
      "finished\n",
      "68\n",
      "finished\n",
      "72\n",
      "finished\n",
      "65\n",
      "finished\n",
      "61\n",
      "finished\n",
      "64\n",
      "finished\n",
      "68\n",
      "finished\n"
     ]
    }
   ],
   "source": [
    "for t in temperatures:\n",
    "    print(t)\n",
    "    print('finished') #this is \"in the loop\""
   ]
  },
  {
   "cell_type": "code",
   "execution_count": 24,
   "id": "a9fa1060-334f-4a99-afe0-8d027450dc94",
   "metadata": {
    "tags": []
   },
   "outputs": [
    {
     "name": "stdout",
     "output_type": "stream",
     "text": [
      "76\n",
      "78\n",
      "82\n",
      "75\n",
      "71\n",
      "74\n",
      "78\n",
      "finished\n"
     ]
    }
   ],
   "source": [
    "for t in temperatures:\n",
    "    t = t + 10\n",
    "    print(t)\n",
    "    \n",
    "print('finished')"
   ]
  },
  {
   "cell_type": "code",
   "execution_count": 26,
   "id": "8ad4c1eb-6eed-43fb-bcec-36ff7b3bd2fa",
   "metadata": {
    "tags": []
   },
   "outputs": [],
   "source": [
    "# Iterating loop"
   ]
  },
  {
   "cell_type": "code",
   "execution_count": 35,
   "id": "0ec047c3-6084-411c-93ec-759cd7f2efb4",
   "metadata": {
    "tags": []
   },
   "outputs": [
    {
     "name": "stdout",
     "output_type": "stream",
     "text": [
      "0\n",
      "1\n",
      "2\n",
      "3\n",
      "4\n",
      "5\n",
      "6\n"
     ]
    }
   ],
   "source": [
    "# more complex but you know where you are in the loop\n",
    "for i in range(len(temperatures)):\n",
    "    print(i)"
   ]
  },
  {
   "cell_type": "code",
   "execution_count": 28,
   "id": "1c6b811a-8cd6-4b72-a68a-6751b90f46a1",
   "metadata": {
    "tags": []
   },
   "outputs": [
    {
     "data": {
      "text/plain": [
       "7"
      ]
     },
     "execution_count": 28,
     "metadata": {},
     "output_type": "execute_result"
    }
   ],
   "source": [
    "len(temperatures)"
   ]
  },
  {
   "cell_type": "code",
   "execution_count": 30,
   "id": "58364f45-5f2d-4a46-b10b-771862efe202",
   "metadata": {
    "tags": []
   },
   "outputs": [],
   "source": [
    "# how would I print the value of each temperature reading too?"
   ]
  },
  {
   "cell_type": "code",
   "execution_count": 32,
   "id": "aa2213df-6131-4c55-a906-055f85859d7a",
   "metadata": {
    "tags": []
   },
   "outputs": [
    {
     "name": "stdout",
     "output_type": "stream",
     "text": [
      "0 66\n",
      "1 68\n",
      "2 72\n",
      "3 65\n",
      "4 61\n",
      "5 64\n",
      "6 68\n"
     ]
    }
   ],
   "source": [
    "for i in range(len(temperatures)):\n",
    "    print(i, temperatures[i])"
   ]
  },
  {
   "cell_type": "code",
   "execution_count": 36,
   "id": "d96eccd4-37a3-45d8-ad63-3cbd3f6a72d0",
   "metadata": {
    "tags": []
   },
   "outputs": [],
   "source": [
    "# list of humidities\n",
    "humidities = [.7, .6, .65, .7, .8, .6, .55]"
   ]
  },
  {
   "cell_type": "code",
   "execution_count": 37,
   "id": "e1e41f2a-9606-48eb-9a1a-812ed6ad272b",
   "metadata": {
    "tags": []
   },
   "outputs": [
    {
     "name": "stdout",
     "output_type": "stream",
     "text": [
      "0.7\n",
      "0.6\n",
      "0.65\n",
      "0.7\n",
      "0.8\n",
      "0.6\n",
      "0.55\n"
     ]
    }
   ],
   "source": [
    "# Print humidities as enumerator\n",
    "for h in humidities:\n",
    "    print(h)"
   ]
  },
  {
   "cell_type": "code",
   "execution_count": 39,
   "id": "f833e3b3-c6e7-495b-911e-e104b878e819",
   "metadata": {
    "tags": []
   },
   "outputs": [
    {
     "name": "stdout",
     "output_type": "stream",
     "text": [
      "0 0.7\n",
      "1 0.6\n",
      "2 0.65\n",
      "3 0.7\n",
      "4 0.8\n",
      "5 0.6\n",
      "6 0.55\n"
     ]
    }
   ],
   "source": [
    "# Print humidities as iteration\n",
    "for i in range(len(humidities)):\n",
    "    print(i, humidities[i])"
   ]
  },
  {
   "cell_type": "markdown",
   "id": "82ae720c-9489-4130-9ff0-306236fd066b",
   "metadata": {},
   "source": [
    "## Conditionals"
   ]
  },
  {
   "cell_type": "code",
   "execution_count": 40,
   "id": "fd43d9de-581f-4f12-be65-995c98b5e394",
   "metadata": {
    "tags": []
   },
   "outputs": [],
   "source": [
    "# What if I only care about temps above 65?"
   ]
  },
  {
   "cell_type": "code",
   "execution_count": 41,
   "id": "c688966d-98ff-4086-a0af-91dc8edb1872",
   "metadata": {
    "tags": []
   },
   "outputs": [
    {
     "name": "stdout",
     "output_type": "stream",
     "text": [
      "66\n",
      "66 t is above threshold\n",
      "68\n",
      "68 t is above threshold\n",
      "72\n",
      "72 t is above threshold\n",
      "65\n",
      "61\n",
      "64\n",
      "68\n",
      "68 t is above threshold\n"
     ]
    }
   ],
   "source": [
    "for t in temperatures:\n",
    "    print(t)\n",
    "    if t> 65:\n",
    "        print(t, 't is above threshold')"
   ]
  },
  {
   "cell_type": "code",
   "execution_count": 42,
   "id": "5ff62a98-1549-4c61-a536-15d555f99dea",
   "metadata": {
    "tags": []
   },
   "outputs": [],
   "source": [
    "# Under the hood, python is making a boolean for true/false\n",
    "# If true, do the things in the loop, if false, don't"
   ]
  },
  {
   "cell_type": "code",
   "execution_count": 44,
   "id": "84c5a2a1-f98d-4f71-9b2f-9270deadcdc2",
   "metadata": {
    "tags": []
   },
   "outputs": [
    {
     "ename": "IndentationError",
     "evalue": "expected an indented block after 'if' statement on line 6 (998233066.py, line 7)",
     "output_type": "error",
     "traceback": [
      "\u001b[0;36m  Cell \u001b[0;32mIn[44], line 7\u001b[0;36m\u001b[0m\n\u001b[0;31m    print(t)\u001b[0m\n\u001b[0m            ^\u001b[0m\n\u001b[0;31mIndentationError\u001b[0m\u001b[0;31m:\u001b[0m expected an indented block after 'if' statement on line 6\n"
     ]
    }
   ],
   "source": [
    "# Indentations need to be specifically correct in python\n",
    "# No loop start and stop like {} in R\n",
    "\n",
    "# Intentional error\n",
    "for t in temperatures:\n",
    "    if t> 65:\n",
    "print(t)"
   ]
  },
  {
   "cell_type": "code",
   "execution_count": 45,
   "id": "ddb97c8a-fbe4-4bad-bf70-16026c163b27",
   "metadata": {
    "tags": []
   },
   "outputs": [
    {
     "name": "stdout",
     "output_type": "stream",
     "text": [
      "66\n",
      "68\n",
      "72\n",
      "68\n"
     ]
    }
   ],
   "source": [
    "for t in temperatures:\n",
    "    if t> 65:\n",
    "        print(t)"
   ]
  },
  {
   "cell_type": "code",
   "execution_count": 49,
   "id": "36f42e55-8cab-4f90-a009-fc0d5e79decf",
   "metadata": {
    "tags": []
   },
   "outputs": [],
   "source": [
    "# what if I want to print humidity when TEMP is above a threshold?\n",
    "# or when theres a large difference between the two?\n",
    "# Let's use interations, with the i standing for index"
   ]
  },
  {
   "cell_type": "code",
   "execution_count": 50,
   "id": "8e8e4f8e-1da5-46f5-960a-8e39c726d83d",
   "metadata": {
    "tags": []
   },
   "outputs": [
    {
     "name": "stdout",
     "output_type": "stream",
     "text": [
      "[66, 68, 72, 65, 61, 64, 68]\n",
      "[0.7, 0.6, 0.65, 0.7, 0.8, 0.6, 0.55]\n"
     ]
    }
   ],
   "source": [
    "print(temperatures)\n",
    "print(humidities)"
   ]
  },
  {
   "cell_type": "code",
   "execution_count": 56,
   "id": "b10568ad-f383-4dac-a6b8-76b7fb967d32",
   "metadata": {
    "tags": []
   },
   "outputs": [
    {
     "name": "stdout",
     "output_type": "stream",
     "text": [
      "0.8\n",
      "0.6\n"
     ]
    }
   ],
   "source": [
    "for i in range(len(temperatures)):\n",
    "    if temperatures[i] < 65:\n",
    "        print(humidities[i])"
   ]
  },
  {
   "cell_type": "code",
   "execution_count": 57,
   "id": "62832de5-d0c9-4d7e-a4f5-3673e535ce5d",
   "metadata": {
    "tags": []
   },
   "outputs": [
    {
     "name": "stdout",
     "output_type": "stream",
     "text": [
      "66\n",
      "65\n",
      "61\n"
     ]
    }
   ],
   "source": [
    "# exercise: print temp when humidity is above 0.65\n",
    "for i in range(len(humidities)):\n",
    "    if humidities[i] > .65:\n",
    "        print(temperatures[i])"
   ]
  },
  {
   "cell_type": "code",
   "execution_count": 60,
   "id": "0ea2292d-da26-45cb-97c4-78f65ec7ea2b",
   "metadata": {
    "tags": []
   },
   "outputs": [
    {
     "name": "stdout",
     "output_type": "stream",
     "text": [
      "hot\n",
      "warm\n",
      "cool\n"
     ]
    }
   ],
   "source": [
    "temperature = 75\n",
    "humidity = .5\n",
    "\n",
    "if temperature > 70:\n",
    "    print(\"hot\")\n",
    "    \n",
    "if temperature > 65:\n",
    "    print(\"warm\")\n",
    "    \n",
    "if temperature > 60:\n",
    "    print(\"cool\")"
   ]
  },
  {
   "cell_type": "code",
   "execution_count": 62,
   "id": "eea11826-8b21-4440-b77b-f751d1bef7c3",
   "metadata": {
    "tags": []
   },
   "outputs": [],
   "source": [
    "# all conditions apply!"
   ]
  },
  {
   "cell_type": "markdown",
   "id": "6dd7b59d-bdef-48de-bdc0-e9c174527ff4",
   "metadata": {},
   "source": [
    "### If/Else "
   ]
  },
  {
   "cell_type": "code",
   "execution_count": 61,
   "id": "04618bd0-b845-43b3-946f-70dfbfe4bf49",
   "metadata": {
    "tags": []
   },
   "outputs": [
    {
     "name": "stdout",
     "output_type": "stream",
     "text": [
      "hot\n"
     ]
    }
   ],
   "source": [
    "temperature = 75\n",
    "\n",
    "if temperature > 70:\n",
    "    print(\"hot\")\n",
    "    \n",
    "elif temperature > 65:\n",
    "    print(\"warm\")\n",
    "    \n",
    "else:\n",
    "    print(\"cool\")"
   ]
  },
  {
   "cell_type": "code",
   "execution_count": 63,
   "id": "9ce18232-ea5e-49bf-a773-77abc84112fd",
   "metadata": {
    "tags": []
   },
   "outputs": [
    {
     "name": "stdout",
     "output_type": "stream",
     "text": [
      "temp OR humidity above\n",
      "nested conditions met\n"
     ]
    }
   ],
   "source": [
    "# and statements & or statements\n",
    "\n",
    "temperature = 75\n",
    "humidity = .45\n",
    "\n",
    "if temperature > 70 and humidity > .5:\n",
    "    print(\"temp AND humidity above\")\n",
    "    \n",
    "if temperature > 70 or humidity > .5:\n",
    "    print(\"temp OR humidity above\")\n",
    "    \n",
    "if temperature > 70 or (temperature > 60 and humidity > .5):\n",
    "    print(\"nested conditions met\")"
   ]
  },
  {
   "cell_type": "code",
   "execution_count": null,
   "id": "b6be6f4b-abac-4e26-84a8-d5184f110dc6",
   "metadata": {},
   "outputs": [],
   "source": []
  }
 ],
 "metadata": {
  "kernelspec": {
   "display_name": "Python 3 (ipykernel)",
   "language": "python",
   "name": "python3"
  },
  "language_info": {
   "codemirror_mode": {
    "name": "ipython",
    "version": 3
   },
   "file_extension": ".py",
   "mimetype": "text/x-python",
   "name": "python",
   "nbconvert_exporter": "python",
   "pygments_lexer": "ipython3",
   "version": "3.11.4"
  }
 },
 "nbformat": 4,
 "nbformat_minor": 5
}
